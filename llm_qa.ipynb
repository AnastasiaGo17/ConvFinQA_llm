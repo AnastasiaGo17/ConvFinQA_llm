{
  "nbformat": 4,
  "nbformat_minor": 0,
  "metadata": {
    "colab": {
      "provenance": []
    },
    "kernelspec": {
      "name": "python3",
      "display_name": "Python 3"
    },
    "language_info": {
      "name": "python"
    }
  },
  "cells": [
    {
      "cell_type": "markdown",
      "source": [
        "# Data Load and preparing the environment\n",
        "start with running setup.sh"
      ],
      "metadata": {
        "id": "hRiAUsi9Th8S"
      }
    },
    {
      "cell_type": "markdown",
      "source": [
        "Now we need to install the modules that we need for this notebook if they were not installed in setup.sh"
      ],
      "metadata": {
        "id": "vNWwiqtYdIaf"
      }
    },
    {
      "cell_type": "code",
      "source": [
        "# !pip uninstall httpx -y\n",
        "# !pip install httpx=='0.27.2'\n",
        "# !pip install openai\n",
        "# !pip install langchain-openai\n",
        "# !pip install python-dotenv\n",
        "# !pip install langdetect\n",
        "# !pip install tiktoken"
      ],
      "metadata": {
        "collapsed": true,
        "colab": {
          "base_uri": "https://localhost:8080/"
        },
        "id": "cemrMxqfdWSD",
        "outputId": "f58f69aa-5d50-4406-aa3b-a0ea570d168f"
      },
      "execution_count": 2,
      "outputs": [
        {
          "output_type": "stream",
          "name": "stdout",
          "text": [
            "Found existing installation: httpx 0.28.0\n",
            "Uninstalling httpx-0.28.0:\n",
            "  Successfully uninstalled httpx-0.28.0\n",
            "Collecting httpx==0.27.2\n",
            "  Downloading httpx-0.27.2-py3-none-any.whl.metadata (7.1 kB)\n",
            "Requirement already satisfied: anyio in /usr/local/lib/python3.10/dist-packages (from httpx==0.27.2) (3.7.1)\n",
            "Requirement already satisfied: certifi in /usr/local/lib/python3.10/dist-packages (from httpx==0.27.2) (2024.8.30)\n",
            "Requirement already satisfied: httpcore==1.* in /usr/local/lib/python3.10/dist-packages (from httpx==0.27.2) (1.0.7)\n",
            "Requirement already satisfied: idna in /usr/local/lib/python3.10/dist-packages (from httpx==0.27.2) (3.10)\n",
            "Requirement already satisfied: sniffio in /usr/local/lib/python3.10/dist-packages (from httpx==0.27.2) (1.3.1)\n",
            "Requirement already satisfied: h11<0.15,>=0.13 in /usr/local/lib/python3.10/dist-packages (from httpcore==1.*->httpx==0.27.2) (0.14.0)\n",
            "Requirement already satisfied: exceptiongroup in /usr/local/lib/python3.10/dist-packages (from anyio->httpx==0.27.2) (1.2.2)\n",
            "Downloading httpx-0.27.2-py3-none-any.whl (76 kB)\n",
            "\u001b[2K   \u001b[90m━━━━━━━━━━━━━━━━━━━━━━━━━━━━━━━━━━━━━━━━\u001b[0m \u001b[32m76.4/76.4 kB\u001b[0m \u001b[31m1.8 MB/s\u001b[0m eta \u001b[36m0:00:00\u001b[0m\n",
            "\u001b[?25hInstalling collected packages: httpx\n",
            "Successfully installed httpx-0.27.2\n"
          ]
        }
      ]
    },
    {
      "cell_type": "markdown",
      "source": [
        "Loading the environment variables into notebook with dotenv. The .env should also have OPENAI_API_KEY for using llms.\n",
        "\n",
        "# DOUBLE CHECK .GITIGNORE"
      ],
      "metadata": {
        "id": "A__z-NBOesO6"
      }
    },
    {
      "cell_type": "code",
      "source": [
        "from dotenv import load_dotenv\n",
        "load_dotenv('projects/ConvFinQA_llm/.env')"
      ],
      "metadata": {
        "id": "0W1dGkStfhr5",
        "outputId": "9c12d970-cfa4-4d10-c03b-c7eedc19849e",
        "colab": {
          "base_uri": "https://localhost:8080/"
        }
      },
      "execution_count": 3,
      "outputs": [
        {
          "output_type": "execute_result",
          "data": {
            "text/plain": [
              "True"
            ]
          },
          "metadata": {},
          "execution_count": 3
        }
      ]
    },
    {
      "cell_type": "markdown",
      "source": [
        "# Data exploration\n",
        "\n",
        "### Basic"
      ],
      "metadata": {
        "id": "RmFBFkeVWe5L"
      }
    },
    {
      "cell_type": "code",
      "source": [
        "import os\n",
        "import json\n",
        "import pandas as pd\n",
        "import chromadb\n",
        "import openai\n",
        "from langdetect import detect\n",
        "import matplotlib.pyplot as plt\n",
        "from copy import deepcopy\n",
        "import tiktoken\n",
        "from time import sleep\n",
        "import re"
      ],
      "metadata": {
        "id": "Pb7trTTBQSBV"
      },
      "execution_count": 51,
      "outputs": []
    },
    {
      "cell_type": "code",
      "source": [
        "def load_json(json_path):\n",
        "  \"\"\"\n",
        "\n",
        "  Args:\n",
        "    json_path: string path to file to load\n",
        "  \"\"\"\n",
        "  with open(json_path, 'r') as file:\n",
        "    data = json.load(file)\n",
        "  return(data)\n"
      ],
      "metadata": {
        "id": "8sHNtYm5cGs1"
      },
      "execution_count": 5,
      "outputs": []
    },
    {
      "cell_type": "code",
      "source": [
        "data_path = 'projects/ConvFinQA_llm/data/train.json'"
      ],
      "metadata": {
        "id": "sW6AxXWgW1Dv"
      },
      "execution_count": 6,
      "outputs": []
    },
    {
      "cell_type": "code",
      "source": [
        "train = load_json(data_path)"
      ],
      "metadata": {
        "id": "CGG1zjEoTjsz"
      },
      "execution_count": 7,
      "outputs": []
    },
    {
      "cell_type": "code",
      "execution_count": 8,
      "metadata": {
        "id": "49k5vjaOKERB",
        "colab": {
          "base_uri": "https://localhost:8080/"
        },
        "outputId": "a7440bb5-21d4-4dec-b7a9-dff63587d882"
      },
      "outputs": [
        {
          "output_type": "execute_result",
          "data": {
            "text/plain": [
              "3037"
            ]
          },
          "metadata": {},
          "execution_count": 8
        }
      ],
      "source": [
        "len(train)"
      ]
    },
    {
      "cell_type": "code",
      "source": [
        "train[0].keys()"
      ],
      "metadata": {
        "id": "JjeKMJLIgiuJ",
        "outputId": "2f74e86c-8434-43d6-dc4b-8234edef405e",
        "colab": {
          "base_uri": "https://localhost:8080/"
        }
      },
      "execution_count": 9,
      "outputs": [
        {
          "output_type": "execute_result",
          "data": {
            "text/plain": [
              "dict_keys(['pre_text', 'post_text', 'filename', 'table_ori', 'table', 'qa', 'id', 'annotation'])"
            ]
          },
          "metadata": {},
          "execution_count": 9
        }
      ]
    },
    {
      "cell_type": "code",
      "source": [
        "# let's check if each question is based on its own file:\n",
        "\n",
        "pd.Series([el['filename'] for el in train]).value_counts()[:10]"
      ],
      "metadata": {
        "id": "r3HQafdnnDJK",
        "outputId": "881a3d87-d9a0-4f5e-af7f-5a84df69ebd9",
        "colab": {
          "base_uri": "https://localhost:8080/",
          "height": 398
        }
      },
      "execution_count": 10,
      "outputs": [
        {
          "output_type": "execute_result",
          "data": {
            "text/plain": [
              "RE/2010/page_138.pdf     7\n",
              "UPS/2012/page_51.pdf     5\n",
              "ETR/2008/page_313.pdf    5\n",
              "AAL/2015/page_51.pdf     5\n",
              "CAT/2017/page_103.pdf    5\n",
              "AMT/2005/page_84.pdf     5\n",
              "UPS/2014/page_35.pdf     5\n",
              "AMAT/2014/page_37.pdf    5\n",
              "CE/2011/page_17.pdf      5\n",
              "ETR/2008/page_356.pdf    5\n",
              "Name: count, dtype: int64"
            ],
            "text/html": [
              "<div>\n",
              "<style scoped>\n",
              "    .dataframe tbody tr th:only-of-type {\n",
              "        vertical-align: middle;\n",
              "    }\n",
              "\n",
              "    .dataframe tbody tr th {\n",
              "        vertical-align: top;\n",
              "    }\n",
              "\n",
              "    .dataframe thead th {\n",
              "        text-align: right;\n",
              "    }\n",
              "</style>\n",
              "<table border=\"1\" class=\"dataframe\">\n",
              "  <thead>\n",
              "    <tr style=\"text-align: right;\">\n",
              "      <th></th>\n",
              "      <th>count</th>\n",
              "    </tr>\n",
              "  </thead>\n",
              "  <tbody>\n",
              "    <tr>\n",
              "      <th>RE/2010/page_138.pdf</th>\n",
              "      <td>7</td>\n",
              "    </tr>\n",
              "    <tr>\n",
              "      <th>UPS/2012/page_51.pdf</th>\n",
              "      <td>5</td>\n",
              "    </tr>\n",
              "    <tr>\n",
              "      <th>ETR/2008/page_313.pdf</th>\n",
              "      <td>5</td>\n",
              "    </tr>\n",
              "    <tr>\n",
              "      <th>AAL/2015/page_51.pdf</th>\n",
              "      <td>5</td>\n",
              "    </tr>\n",
              "    <tr>\n",
              "      <th>CAT/2017/page_103.pdf</th>\n",
              "      <td>5</td>\n",
              "    </tr>\n",
              "    <tr>\n",
              "      <th>AMT/2005/page_84.pdf</th>\n",
              "      <td>5</td>\n",
              "    </tr>\n",
              "    <tr>\n",
              "      <th>UPS/2014/page_35.pdf</th>\n",
              "      <td>5</td>\n",
              "    </tr>\n",
              "    <tr>\n",
              "      <th>AMAT/2014/page_37.pdf</th>\n",
              "      <td>5</td>\n",
              "    </tr>\n",
              "    <tr>\n",
              "      <th>CE/2011/page_17.pdf</th>\n",
              "      <td>5</td>\n",
              "    </tr>\n",
              "    <tr>\n",
              "      <th>ETR/2008/page_356.pdf</th>\n",
              "      <td>5</td>\n",
              "    </tr>\n",
              "  </tbody>\n",
              "</table>\n",
              "</div><br><label><b>dtype:</b> int64</label>"
            ]
          },
          "metadata": {},
          "execution_count": 10
        }
      ]
    },
    {
      "cell_type": "markdown",
      "source": [
        "Some documents appear in more than one question. There might be different pieces from the same large underlying file.\n",
        "\n",
        "Based on that I would avoid creating any indexing solutions based on the file name alone. We need to use file name in combination with a numeric index to create a truly unique index."
      ],
      "metadata": {
        "id": "u5St7l1QnSn9"
      }
    },
    {
      "cell_type": "code",
      "source": [
        "!pip install tiktoken"
      ],
      "metadata": {
        "colab": {
          "base_uri": "https://localhost:8080/"
        },
        "id": "bHrziucDfH8g",
        "outputId": "b8eb3c66-c755-4359-b0e3-6e084020ef13"
      },
      "execution_count": 11,
      "outputs": [
        {
          "output_type": "stream",
          "name": "stdout",
          "text": [
            "Requirement already satisfied: tiktoken in /usr/local/lib/python3.10/dist-packages (0.8.0)\n",
            "Requirement already satisfied: regex>=2022.1.18 in /usr/local/lib/python3.10/dist-packages (from tiktoken) (2024.9.11)\n",
            "Requirement already satisfied: requests>=2.26.0 in /usr/local/lib/python3.10/dist-packages (from tiktoken) (2.32.3)\n",
            "Requirement already satisfied: charset-normalizer<4,>=2 in /usr/local/lib/python3.10/dist-packages (from requests>=2.26.0->tiktoken) (3.4.0)\n",
            "Requirement already satisfied: idna<4,>=2.5 in /usr/local/lib/python3.10/dist-packages (from requests>=2.26.0->tiktoken) (3.10)\n",
            "Requirement already satisfied: urllib3<3,>=1.21.1 in /usr/local/lib/python3.10/dist-packages (from requests>=2.26.0->tiktoken) (2.2.3)\n",
            "Requirement already satisfied: certifi>=2017.4.17 in /usr/local/lib/python3.10/dist-packages (from requests>=2.26.0->tiktoken) (2024.8.30)\n"
          ]
        }
      ]
    },
    {
      "cell_type": "code",
      "source": [
        "# joining pre_text into one text\n",
        "\n",
        "for record in train:\n",
        "  record['pre_text_string'] = ' '.join(record['pre_text'])\n",
        "  record['post_text_string'] = ' '.join(record['post_text'])"
      ],
      "metadata": {
        "id": "zjhKT8NSsfMQ"
      },
      "execution_count": 12,
      "outputs": []
    },
    {
      "cell_type": "code",
      "source": [
        "# checking languages used in the texts - that might take some time\n",
        "# first 1000 symbols is a rule of thumb but it is generally enough for the modern language detection models\n",
        "pd.Series([detect(el['pre_text_string'] + record['post_text_string'][:1000]) for el in train]).value_counts()"
      ],
      "metadata": {
        "id": "PpnXQOaIrtZs",
        "outputId": "a24a5d45-f829-4c08-fcab-444f2cd7c8bf",
        "colab": {
          "base_uri": "https://localhost:8080/",
          "height": 115
        }
      },
      "execution_count": 13,
      "outputs": [
        {
          "output_type": "execute_result",
          "data": {
            "text/plain": [
              "en    3037\n",
              "Name: count, dtype: int64"
            ],
            "text/html": [
              "<div>\n",
              "<style scoped>\n",
              "    .dataframe tbody tr th:only-of-type {\n",
              "        vertical-align: middle;\n",
              "    }\n",
              "\n",
              "    .dataframe tbody tr th {\n",
              "        vertical-align: top;\n",
              "    }\n",
              "\n",
              "    .dataframe thead th {\n",
              "        text-align: right;\n",
              "    }\n",
              "</style>\n",
              "<table border=\"1\" class=\"dataframe\">\n",
              "  <thead>\n",
              "    <tr style=\"text-align: right;\">\n",
              "      <th></th>\n",
              "      <th>count</th>\n",
              "    </tr>\n",
              "  </thead>\n",
              "  <tbody>\n",
              "    <tr>\n",
              "      <th>en</th>\n",
              "      <td>3037</td>\n",
              "    </tr>\n",
              "  </tbody>\n",
              "</table>\n",
              "</div><br><label><b>dtype:</b> int64</label>"
            ]
          },
          "metadata": {},
          "execution_count": 13
        }
      ]
    },
    {
      "cell_type": "markdown",
      "source": [
        "The dataset features only English documents\n",
        "\n",
        "* removes multilingual support requirement from POC\n",
        "\n",
        "* widens the list of available LLMs - some of the commercially available models are mostly trained on the corpuses from Anglosphere and can show lowered performance in a task formulated in one of Asian languages for example."
      ],
      "metadata": {
        "id": "Zn7S4Pr_tWzI"
      }
    },
    {
      "cell_type": "markdown",
      "source": [
        "### Table data analysis and processing"
      ],
      "metadata": {
        "id": "PZ3iHLcNoKw_"
      }
    },
    {
      "cell_type": "markdown",
      "source": [
        "It is clear that answer is frequently derived from tables, and additional calculation and reasoning are often needed to extract an answer.\n",
        "\n",
        "Since qa dict included *gold_inds* field, we can see that the original researcher have done some kind of table parsing to post-process the tables as strings of connected statements.\n",
        "\n",
        "Let's start from assessing the tables and make sure they are all suitably flattened for the task"
      ],
      "metadata": {
        "id": "k8VgY7wuhsQX"
      }
    },
    {
      "cell_type": "code",
      "source": [
        "tables = [el['table'] for el in train]"
      ],
      "metadata": {
        "id": "MT-yHp_8gpLy"
      },
      "execution_count": 14,
      "outputs": []
    },
    {
      "cell_type": "code",
      "source": [
        "tables[-1]"
      ],
      "metadata": {
        "id": "mKAfCVB0jZ2r",
        "outputId": "94bfa270-057c-416b-958e-6319246f0779",
        "colab": {
          "base_uri": "https://localhost:8080/"
        }
      },
      "execution_count": 15,
      "outputs": [
        {
          "output_type": "execute_result",
          "data": {
            "text/plain": [
              "[['( in days )',\n",
              "  'december 31 , 2017',\n",
              "  'december 31 , 2016',\n",
              "  'december 31 , 2015'],\n",
              " ['days of sales outstanding ( dso ) ( 1 )', '52', '51', '48'],\n",
              " ['days of supply in inventory ( dio ) ( 2 )', '12', '12', '13'],\n",
              " ['days of purchases outstanding ( dpo ) ( 3 )',\n",
              "  '-45 ( 45 )',\n",
              "  '-44 ( 44 )',\n",
              "  '-40 ( 40 )'],\n",
              " ['cash conversion cycle', '19', '19', '21']]"
            ]
          },
          "metadata": {},
          "execution_count": 15
        }
      ]
    },
    {
      "cell_type": "code",
      "source": [
        "def check_table_flat(table_lst_lst):\n",
        "  # checking if all tables were flattened - i.e. ech row is the same length\n",
        "  row_len = [len(row) for row in table_lst_lst]\n",
        "  if len(set(row_len)) > 1:\n",
        "    return(False)\n",
        "  else:\n",
        "    # if it is an empty table it should also return True whcih is ok in this scenario\n",
        "    return(True)"
      ],
      "metadata": {
        "id": "aIHnHoucjA-E"
      },
      "execution_count": 16,
      "outputs": []
    },
    {
      "cell_type": "code",
      "source": [
        "# tables appear to be flat\n",
        "pd.Series([check_table_flat(table) for table in tables]).value_counts()"
      ],
      "metadata": {
        "id": "cg-69tWXjDOD",
        "outputId": "93c6e283-be50-4403-e115-063c716adb5e",
        "colab": {
          "base_uri": "https://localhost:8080/",
          "height": 115
        }
      },
      "execution_count": 17,
      "outputs": [
        {
          "output_type": "execute_result",
          "data": {
            "text/plain": [
              "True    3037\n",
              "Name: count, dtype: int64"
            ],
            "text/html": [
              "<div>\n",
              "<style scoped>\n",
              "    .dataframe tbody tr th:only-of-type {\n",
              "        vertical-align: middle;\n",
              "    }\n",
              "\n",
              "    .dataframe tbody tr th {\n",
              "        vertical-align: top;\n",
              "    }\n",
              "\n",
              "    .dataframe thead th {\n",
              "        text-align: right;\n",
              "    }\n",
              "</style>\n",
              "<table border=\"1\" class=\"dataframe\">\n",
              "  <thead>\n",
              "    <tr style=\"text-align: right;\">\n",
              "      <th></th>\n",
              "      <th>count</th>\n",
              "    </tr>\n",
              "  </thead>\n",
              "  <tbody>\n",
              "    <tr>\n",
              "      <th>True</th>\n",
              "      <td>3037</td>\n",
              "    </tr>\n",
              "  </tbody>\n",
              "</table>\n",
              "</div><br><label><b>dtype:</b> int64</label>"
            ]
          },
          "metadata": {},
          "execution_count": 17
        }
      ]
    },
    {
      "cell_type": "code",
      "source": [
        "# preprocess tables\n",
        "\n",
        "def process_table_to_statements(table_lst_lst):\n",
        "  # turning lst_lst into a pandas DataFrame. it is not the most memory-efficient but easier to debug\n",
        "  # should be refactored alongside with other Pandas items from MVP and Scaled product\n",
        "  # The first list is for the column names\n",
        "  column_names = table_lst_lst[0]\n",
        "\n",
        "  if len(column_names) == 0:\n",
        "    return('')\n",
        "\n",
        "  # The rest of the lists are the rows of data\n",
        "  rows = table_lst_lst[1:]\n",
        "\n",
        "  # Create DataFrame\n",
        "  table_df = pd.DataFrame(rows, columns=column_names)\n",
        "\n",
        "  table_parsed_lst = []\n",
        "\n",
        "  # sometimes the 'upper left' col contains additional info about units of measurement,\n",
        "  # if it is not empty we should consider it\n",
        "\n",
        "  additional_info = ''\n",
        "\n",
        "  # using iterrows instead of faster index because i's can be non-unique\n",
        "  row_counter = 0\n",
        "  for i, row in table_df.iterrows():\n",
        "    values = row.tolist()\n",
        "    data_index = row.tolist()[0]\n",
        "    for col_id, colname in enumerate(column_names):\n",
        "      # if we have a piece of information in upper left corner\n",
        "      if (row_counter == 0) & (col_id == 0) & (colname not in ['', \" \"]):\n",
        "        additional_info = ' ' + colname\n",
        "      # we are looking at the 'data index' column, not a column with real values\n",
        "      elif col_id == 0:\n",
        "        continue\n",
        "      else:\n",
        "        # get value for a given combination of data index and column name\n",
        "        value = values[col_id]\n",
        "\n",
        "        table_parsed_lst.append(f'{data_index}{additional_info} {colname} : {value}')\n",
        "\n",
        "    row_counter += 1\n",
        "\n",
        "  table_parsed_text = \";   \".join(table_parsed_lst)\n",
        "\n",
        "  # return a tuple containing both statements as text and statements as lst\n",
        "  return(table_parsed_lst, table_parsed_text)\n",
        "\n",
        "\n",
        "\n",
        "\n",
        "\n"
      ],
      "metadata": {
        "id": "CJcXuzyFrIoq"
      },
      "execution_count": 18,
      "outputs": []
    },
    {
      "cell_type": "code",
      "source": [
        "tables[22]"
      ],
      "metadata": {
        "colab": {
          "base_uri": "https://localhost:8080/"
        },
        "id": "FgPVXWFRoAur",
        "outputId": "a7741bca-be99-44d5-d6fb-0ab04a52455e"
      },
      "execution_count": 19,
      "outputs": [
        {
          "output_type": "execute_result",
          "data": {
            "text/plain": [
              "[['$ in millions', 'as of december 2014', 'as of december 2013'],\n",
              " ['common shareholders 2019 equity', '$ 73597', '$ 71267'],\n",
              " ['deductions for goodwill and identifiable intangible assets net of deferred tax liabilities',\n",
              "  '-3196 ( 3196 )',\n",
              "  '-3468 ( 3468 )'],\n",
              " ['deductions for investments in nonconsolidated financial institutions',\n",
              "  '-4928 ( 4928 )',\n",
              "  '-9091 ( 9091 )'],\n",
              " ['other adjustments', '-1213 ( 1213 )', '-489 ( 489 )'],\n",
              " ['cet1', '$ 64260', '$ 58219'],\n",
              " ['basel iii advanced rwas', '$ 577869', '$ 594662'],\n",
              " ['basel iii advanced cet1 ratio', '11.1% ( 11.1 % )', '9.8% ( 9.8 % )'],\n",
              " ['standardized rwas', '$ 627444', '$ 635092'],\n",
              " ['standardized cet1 ratio', '10.2% ( 10.2 % )', '9.2% ( 9.2 % )']]"
            ]
          },
          "metadata": {},
          "execution_count": 19
        }
      ]
    },
    {
      "cell_type": "code",
      "source": [
        "process_table_to_statements(tables[22])"
      ],
      "metadata": {
        "colab": {
          "base_uri": "https://localhost:8080/"
        },
        "id": "8HQ8H7p3oF_3",
        "outputId": "b8c674e0-f085-4313-b676-3970e3505440"
      },
      "execution_count": 20,
      "outputs": [
        {
          "output_type": "execute_result",
          "data": {
            "text/plain": [
              "(['common shareholders 2019 equity $ in millions as of december 2014 : $ 73597',\n",
              "  'common shareholders 2019 equity $ in millions as of december 2013 : $ 71267',\n",
              "  'deductions for goodwill and identifiable intangible assets net of deferred tax liabilities $ in millions as of december 2014 : -3196 ( 3196 )',\n",
              "  'deductions for goodwill and identifiable intangible assets net of deferred tax liabilities $ in millions as of december 2013 : -3468 ( 3468 )',\n",
              "  'deductions for investments in nonconsolidated financial institutions $ in millions as of december 2014 : -4928 ( 4928 )',\n",
              "  'deductions for investments in nonconsolidated financial institutions $ in millions as of december 2013 : -9091 ( 9091 )',\n",
              "  'other adjustments $ in millions as of december 2014 : -1213 ( 1213 )',\n",
              "  'other adjustments $ in millions as of december 2013 : -489 ( 489 )',\n",
              "  'cet1 $ in millions as of december 2014 : $ 64260',\n",
              "  'cet1 $ in millions as of december 2013 : $ 58219',\n",
              "  'basel iii advanced rwas $ in millions as of december 2014 : $ 577869',\n",
              "  'basel iii advanced rwas $ in millions as of december 2013 : $ 594662',\n",
              "  'basel iii advanced cet1 ratio $ in millions as of december 2014 : 11.1% ( 11.1 % )',\n",
              "  'basel iii advanced cet1 ratio $ in millions as of december 2013 : 9.8% ( 9.8 % )',\n",
              "  'standardized rwas $ in millions as of december 2014 : $ 627444',\n",
              "  'standardized rwas $ in millions as of december 2013 : $ 635092',\n",
              "  'standardized cet1 ratio $ in millions as of december 2014 : 10.2% ( 10.2 % )',\n",
              "  'standardized cet1 ratio $ in millions as of december 2013 : 9.2% ( 9.2 % )'],\n",
              " 'common shareholders 2019 equity $ in millions as of december 2014 : $ 73597;   common shareholders 2019 equity $ in millions as of december 2013 : $ 71267;   deductions for goodwill and identifiable intangible assets net of deferred tax liabilities $ in millions as of december 2014 : -3196 ( 3196 );   deductions for goodwill and identifiable intangible assets net of deferred tax liabilities $ in millions as of december 2013 : -3468 ( 3468 );   deductions for investments in nonconsolidated financial institutions $ in millions as of december 2014 : -4928 ( 4928 );   deductions for investments in nonconsolidated financial institutions $ in millions as of december 2013 : -9091 ( 9091 );   other adjustments $ in millions as of december 2014 : -1213 ( 1213 );   other adjustments $ in millions as of december 2013 : -489 ( 489 );   cet1 $ in millions as of december 2014 : $ 64260;   cet1 $ in millions as of december 2013 : $ 58219;   basel iii advanced rwas $ in millions as of december 2014 : $ 577869;   basel iii advanced rwas $ in millions as of december 2013 : $ 594662;   basel iii advanced cet1 ratio $ in millions as of december 2014 : 11.1% ( 11.1 % );   basel iii advanced cet1 ratio $ in millions as of december 2013 : 9.8% ( 9.8 % );   standardized rwas $ in millions as of december 2014 : $ 627444;   standardized rwas $ in millions as of december 2013 : $ 635092;   standardized cet1 ratio $ in millions as of december 2014 : 10.2% ( 10.2 % );   standardized cet1 ratio $ in millions as of december 2013 : 9.2% ( 9.2 % )')"
            ]
          },
          "metadata": {},
          "execution_count": 20
        }
      ]
    },
    {
      "cell_type": "markdown",
      "source": [
        "### Create united text document and calculate average length"
      ],
      "metadata": {
        "id": "xorcFMPguJNA"
      }
    },
    {
      "cell_type": "code",
      "source": [
        "for record in train:\n",
        "  text_pre = record['pre_text_string']\n",
        "  text_post = record['post_text_string']\n",
        "\n",
        "  table_text = process_table_to_statements(record['table'])[1]\n",
        "  table_text_lst = process_table_to_statements(record['table'])[0]\n",
        "\n",
        "  record['table_text'] = table_text\n",
        "  record['table_text_lst'] = table_text\n",
        "\n",
        "  record['full_text_string'] = f'{text_pre} table data: {table_text} end of the table. {text_post}'\n",
        "  record['full_text_length'] = len(record['full_text_string'])"
      ],
      "metadata": {
        "id": "9SlPaZnH1DRy"
      },
      "execution_count": 21,
      "outputs": []
    },
    {
      "cell_type": "code",
      "source": [
        "pd.Series([el['full_text_length'] for el in train]).describe()"
      ],
      "metadata": {
        "id": "iyllYjbU1qSd",
        "outputId": "2b1fc462-3856-4be3-df0a-d2687916410b",
        "colab": {
          "base_uri": "https://localhost:8080/",
          "height": 335
        }
      },
      "execution_count": 22,
      "outputs": [
        {
          "output_type": "execute_result",
          "data": {
            "text/plain": [
              "count     3037.000000\n",
              "mean      4634.650971\n",
              "std       1703.569692\n",
              "min        578.000000\n",
              "25%       3614.000000\n",
              "50%       4470.000000\n",
              "75%       5521.000000\n",
              "max      15198.000000\n",
              "dtype: float64"
            ],
            "text/html": [
              "<div>\n",
              "<style scoped>\n",
              "    .dataframe tbody tr th:only-of-type {\n",
              "        vertical-align: middle;\n",
              "    }\n",
              "\n",
              "    .dataframe tbody tr th {\n",
              "        vertical-align: top;\n",
              "    }\n",
              "\n",
              "    .dataframe thead th {\n",
              "        text-align: right;\n",
              "    }\n",
              "</style>\n",
              "<table border=\"1\" class=\"dataframe\">\n",
              "  <thead>\n",
              "    <tr style=\"text-align: right;\">\n",
              "      <th></th>\n",
              "      <th>0</th>\n",
              "    </tr>\n",
              "  </thead>\n",
              "  <tbody>\n",
              "    <tr>\n",
              "      <th>count</th>\n",
              "      <td>3037.000000</td>\n",
              "    </tr>\n",
              "    <tr>\n",
              "      <th>mean</th>\n",
              "      <td>4634.650971</td>\n",
              "    </tr>\n",
              "    <tr>\n",
              "      <th>std</th>\n",
              "      <td>1703.569692</td>\n",
              "    </tr>\n",
              "    <tr>\n",
              "      <th>min</th>\n",
              "      <td>578.000000</td>\n",
              "    </tr>\n",
              "    <tr>\n",
              "      <th>25%</th>\n",
              "      <td>3614.000000</td>\n",
              "    </tr>\n",
              "    <tr>\n",
              "      <th>50%</th>\n",
              "      <td>4470.000000</td>\n",
              "    </tr>\n",
              "    <tr>\n",
              "      <th>75%</th>\n",
              "      <td>5521.000000</td>\n",
              "    </tr>\n",
              "    <tr>\n",
              "      <th>max</th>\n",
              "      <td>15198.000000</td>\n",
              "    </tr>\n",
              "  </tbody>\n",
              "</table>\n",
              "</div><br><label><b>dtype:</b> float64</label>"
            ]
          },
          "metadata": {},
          "execution_count": 22
        }
      ]
    },
    {
      "cell_type": "code",
      "source": [
        "train[22]['full_text_string']"
      ],
      "metadata": {
        "id": "ogWMOm7J2OTl",
        "outputId": "3601c64e-b7a6-4a6f-e5f7-89796d38e99a",
        "colab": {
          "base_uri": "https://localhost:8080/",
          "height": 268
        }
      },
      "execution_count": 23,
      "outputs": [
        {
          "output_type": "execute_result",
          "data": {
            "text/plain": [
              "'management 2019s discussion and analysis fully phased-in capital ratios the table below presents our estimated ratio of cet1 to rwas calculated under the basel iii advanced rules and the standardized capital rules on a fully phased-in basis. . table data: common shareholders 2019 equity $ in millions as of december 2014 : $ 73597;   common shareholders 2019 equity $ in millions as of december 2013 : $ 71267;   deductions for goodwill and identifiable intangible assets net of deferred tax liabilities $ in millions as of december 2014 : -3196 ( 3196 );   deductions for goodwill and identifiable intangible assets net of deferred tax liabilities $ in millions as of december 2013 : -3468 ( 3468 );   deductions for investments in nonconsolidated financial institutions $ in millions as of december 2014 : -4928 ( 4928 );   deductions for investments in nonconsolidated financial institutions $ in millions as of december 2013 : -9091 ( 9091 );   other adjustments $ in millions as of december 2014 : -1213 ( 1213 );   other adjustments $ in millions as of december 2013 : -489 ( 489 );   cet1 $ in millions as of december 2014 : $ 64260;   cet1 $ in millions as of december 2013 : $ 58219;   basel iii advanced rwas $ in millions as of december 2014 : $ 577869;   basel iii advanced rwas $ in millions as of december 2013 : $ 594662;   basel iii advanced cet1 ratio $ in millions as of december 2014 : 11.1% ( 11.1 % );   basel iii advanced cet1 ratio $ in millions as of december 2013 : 9.8% ( 9.8 % );   standardized rwas $ in millions as of december 2014 : $ 627444;   standardized rwas $ in millions as of december 2013 : $ 635092;   standardized cet1 ratio $ in millions as of december 2014 : 10.2% ( 10.2 % );   standardized cet1 ratio $ in millions as of december 2013 : 9.2% ( 9.2 % ) end of the table. although the fully phased-in capital ratios are not applicable until 2019 , we believe that the estimated ratios in the table above are meaningful because they are measures that we , our regulators and investors use to assess our ability to meet future regulatory capital requirements . the estimated fully phased-in basel iii advanced and standardized cet1 ratios are non-gaap measures as of both december 2014 and december 2013 and may not be comparable to similar non-gaap measures used by other companies ( as of those dates ) . these estimated ratios are based on our current interpretation , expectations and understanding of the revised capital framework and may evolve as we discuss its interpretation and application with our regulators . see note 20 to the consolidated financial statements for information about our transitional capital ratios , which represent our binding ratios as of december 2014 . in the table above : 2030 the deduction for goodwill and identifiable intangible assets , net of deferred tax liabilities , represents goodwill of $ 3.65 billion and $ 3.71 billion as of december 2014 and december 2013 , respectively , and identifiable intangible assets of $ 515 million and $ 671 million as of december 2014 and december 2013 , respectively , net of associated deferred tax liabilities of $ 964 million and $ 908 million as of december 2014 and december 2013 , respectively . 2030 the deduction for investments in nonconsolidated financial institutions represents the amount by which our investments in the capital of nonconsolidated financial institutions exceed certain prescribed thresholds . the decrease from december 2013 to december 2014 primarily reflects reductions in our fund investments . 2030 other adjustments primarily include the overfunded portion of our defined benefit pension plan obligation , net of associated deferred tax liabilities , and disallowed deferred tax assets , credit valuation adjustments on derivative liabilities and debt valuation adjustments , as well as other required credit risk-based deductions . supplementary leverage ratio the revised capital framework introduces a new supplementary leverage ratio for advanced approach banking organizations . under amendments to the revised capital framework , the u.s . federal bank regulatory agencies approved a final rule that implements the supplementary leverage ratio aligned with the definition of leverage established by the basel committee . the supplementary leverage ratio compares tier 1 capital to a measure of leverage exposure , defined as the sum of our quarterly average assets less certain deductions plus certain off-balance-sheet exposures , including a measure of derivatives exposures and commitments . the revised capital framework requires a minimum supplementary leverage ratio of 5.0% ( 5.0 % ) ( comprised of the minimum requirement of 3.0% ( 3.0 % ) and a 2.0% ( 2.0 % ) buffer ) for u.s . banks deemed to be g-sibs , effective on january 1 , 2018 . certain disclosures regarding the supplementary leverage ratio are required beginning in the first quarter of 2015 . as of december 2014 , our estimated supplementary leverage ratio was 5.0% ( 5.0 % ) , including tier 1 capital on a fully phased-in basis of $ 73.17 billion ( cet1 of $ 64.26 billion plus perpetual non-cumulative preferred stock of $ 9.20 billion less other adjustments of $ 290 million ) divided by total leverage exposure of $ 1.45 trillion ( total quarterly average assets of $ 873 billion plus adjustments of $ 579 billion , primarily comprised of off-balance-sheet exposure related to derivatives and commitments ) . we believe that the estimated supplementary leverage ratio is meaningful because it is a measure that we , our regulators and investors use to assess our ability to meet future regulatory capital requirements . the supplementary leverage ratio is a non-gaap measure and may not be comparable to similar non-gaap measures used by other companies . this estimated supplementary leverage ratio is based on our current interpretation and understanding of the u.s . federal bank regulatory agencies 2019 final rule and may evolve as we discuss its interpretation and application with our regulators . 60 goldman sachs 2014 annual report .'"
            ],
            "application/vnd.google.colaboratory.intrinsic+json": {
              "type": "string"
            }
          },
          "metadata": {},
          "execution_count": 23
        }
      ]
    },
    {
      "cell_type": "markdown",
      "source": [
        "Given the rule of thumb of 4 characters per token we have between 144 and 3800 tokens of context. However as we see the texts are rather dense and contain a lot of financial indicators."
      ],
      "metadata": {
        "id": "xgZwZKyA2IZB"
      }
    },
    {
      "cell_type": "markdown",
      "source": [
        "### Check 'complex' QA entries"
      ],
      "metadata": {
        "id": "Ohv9Qzc2rCq3"
      }
    },
    {
      "cell_type": "markdown",
      "source": [
        "The data description mentions 'Type II complex conversations' and that some of the json entries have fields *qa_0* and *qa_1* to denote multiple questions asked within the same conversation.\n",
        "\n",
        "Let's have a look at these:"
      ],
      "metadata": {
        "id": "7NN9u1kxksBC"
      }
    },
    {
      "cell_type": "code",
      "source": [
        "train_with_complex_qa = [el for el in train if el.get('qa_0') is not None]\n",
        "len(train_with_complex_qa)"
      ],
      "metadata": {
        "id": "oaze4nIAk6Bs",
        "outputId": "13911e9a-4aab-4412-d1d4-8fb8d802fe92",
        "colab": {
          "base_uri": "https://localhost:8080/"
        }
      },
      "execution_count": 24,
      "outputs": [
        {
          "output_type": "execute_result",
          "data": {
            "text/plain": [
              "928"
            ]
          },
          "metadata": {},
          "execution_count": 24
        }
      ]
    },
    {
      "cell_type": "code",
      "source": [
        "train_with_complex_qa[0].keys()"
      ],
      "metadata": {
        "id": "CEN9eq4Bky46",
        "outputId": "91fd4937-a5b2-4408-9058-c35143f5bed3",
        "colab": {
          "base_uri": "https://localhost:8080/"
        }
      },
      "execution_count": 25,
      "outputs": [
        {
          "output_type": "execute_result",
          "data": {
            "text/plain": [
              "dict_keys(['pre_text', 'post_text', 'filename', 'table_ori', 'table', 'id', 'annotation', 'qa_0', 'qa_1', 'pre_text_string', 'post_text_string', 'table_text', 'table_text_lst', 'full_text_string', 'full_text_length'])"
            ]
          },
          "metadata": {},
          "execution_count": 25
        }
      ]
    },
    {
      "cell_type": "code",
      "source": [
        "train_with_complex_qa[0]['qa_0']"
      ],
      "metadata": {
        "id": "aNNdiOH4l76Y",
        "outputId": "500365a0-d062-4608-ed0a-b4b13da17e9f",
        "colab": {
          "base_uri": "https://localhost:8080/"
        }
      },
      "execution_count": 26,
      "outputs": [
        {
          "output_type": "execute_result",
          "data": {
            "text/plain": [
              "{'question': 'what is the roi of an investment in ups in 2004 and sold in 2006?',\n",
              " 'answer': '-8.9%',\n",
              " 'explanation': '',\n",
              " 'ann_table_rows': [1],\n",
              " 'ann_text_rows': [],\n",
              " 'steps': [{'op': 'minus1-1',\n",
              "   'arg1': '91.06',\n",
              "   'arg2': 'const_100',\n",
              "   'res': '-8.94'},\n",
              "  {'op': 'divide1-2', 'arg1': '#0', 'arg2': 'const_100', 'res': '-8.9%'}],\n",
              " 'program': 'subtract(91.06, const_100), divide(#0, const_100)',\n",
              " 'gold_inds': {'table_1': 'the united parcel service inc . of 12/31/04 is $ 100.00 ; the united parcel service inc . of 12/31/05 is $ 89.49 ; the united parcel service inc . of 12/31/06 is $ 91.06 ; the united parcel service inc . of 12/31/07 is $ 87.88 ; the united parcel service inc . of 12/31/08 is $ 70.48 ; the united parcel service inc . of 12/31/09 is $ 75.95 ;'},\n",
              " 'exe_ans': -0.0894,\n",
              " 'program_re': 'divide(subtract(91.06, const_100), const_100)'}"
            ]
          },
          "metadata": {},
          "execution_count": 26
        }
      ]
    },
    {
      "cell_type": "code",
      "source": [
        "train_with_complex_qa[0]['qa_1']"
      ],
      "metadata": {
        "id": "ay8WtQqkmFTP",
        "outputId": "7cd613b8-c827-459d-ea16-4eb4f468a37f",
        "colab": {
          "base_uri": "https://localhost:8080/"
        }
      },
      "execution_count": 27,
      "outputs": [
        {
          "output_type": "execute_result",
          "data": {
            "text/plain": [
              "{'question': 'what was the difference in percentage cumulative return on investment for united parcel service inc . compared to the s&p 500 index for the five year period ended 12/31/09?',\n",
              " 'answer': '-26.16%',\n",
              " 'explanation': '',\n",
              " 'ann_table_rows': [1, 2],\n",
              " 'ann_text_rows': [],\n",
              " 'steps': [{'op': 'minus2-1',\n",
              "   'arg1': '75.95',\n",
              "   'arg2': 'const_100',\n",
              "   'res': '-24.05'},\n",
              "  {'op': 'divide2-2', 'arg1': '#0', 'arg2': 'const_100', 'res': '-24.05%'},\n",
              "  {'op': 'minus2-3', 'arg1': '102.11', 'arg2': 'const_100', 'res': '2.11'},\n",
              "  {'op': 'divide2-4', 'arg1': '#2', 'arg2': 'const_100', 'res': '2.11%'},\n",
              "  {'op': 'minus2-5', 'arg1': '#1', 'arg2': '#3', 'res': '-26.16%'}],\n",
              " 'program': 'subtract(75.95, const_100), divide(#0, const_100), subtract(102.11, const_100), divide(#2, const_100), subtract(#1, #3)',\n",
              " 'gold_inds': {'table_1': 'the united parcel service inc . of 12/31/04 is $ 100.00 ; the united parcel service inc . of 12/31/05 is $ 89.49 ; the united parcel service inc . of 12/31/06 is $ 91.06 ; the united parcel service inc . of 12/31/07 is $ 87.88 ; the united parcel service inc . of 12/31/08 is $ 70.48 ; the united parcel service inc . of 12/31/09 is $ 75.95 ;',\n",
              "  'table_2': 'the s&p 500 index of 12/31/04 is $ 100.00 ; the s&p 500 index of 12/31/05 is $ 104.91 ; the s&p 500 index of 12/31/06 is $ 121.48 ; the s&p 500 index of 12/31/07 is $ 128.15 ; the s&p 500 index of 12/31/08 is $ 80.74 ; the s&p 500 index of 12/31/09 is $ 102.11 ;'},\n",
              " 'exe_ans': -0.2616,\n",
              " 'program_re': 'subtract(divide(subtract(75.95, const_100), const_100), divide(subtract(102.11, const_100), const_100))'}"
            ]
          },
          "metadata": {},
          "execution_count": 27
        }
      ]
    },
    {
      "cell_type": "code",
      "source": [
        "# no default qa question in such cases\n",
        "train_with_complex_qa[0]['qa']"
      ],
      "metadata": {
        "id": "IhS2z5Kimg06",
        "outputId": "baf0391d-2331-4cfe-d070-fae6af53b1e2",
        "colab": {
          "base_uri": "https://localhost:8080/",
          "height": 198
        }
      },
      "execution_count": 29,
      "outputs": [
        {
          "output_type": "error",
          "ename": "KeyError",
          "evalue": "'qa'",
          "traceback": [
            "\u001b[0;31m---------------------------------------------------------------------------\u001b[0m",
            "\u001b[0;31mKeyError\u001b[0m                                  Traceback (most recent call last)",
            "\u001b[0;32m<ipython-input-29-978aa7bb47c5>\u001b[0m in \u001b[0;36m<cell line: 2>\u001b[0;34m()\u001b[0m\n\u001b[1;32m      1\u001b[0m \u001b[0;31m# no default qa question in such cases\u001b[0m\u001b[0;34m\u001b[0m\u001b[0;34m\u001b[0m\u001b[0m\n\u001b[0;32m----> 2\u001b[0;31m \u001b[0mtrain_with_complex_qa\u001b[0m\u001b[0;34m[\u001b[0m\u001b[0;36m0\u001b[0m\u001b[0;34m]\u001b[0m\u001b[0;34m[\u001b[0m\u001b[0;34m'qa'\u001b[0m\u001b[0;34m]\u001b[0m\u001b[0;34m\u001b[0m\u001b[0;34m\u001b[0m\u001b[0m\n\u001b[0m",
            "\u001b[0;31mKeyError\u001b[0m: 'qa'"
          ]
        }
      ]
    },
    {
      "cell_type": "code",
      "source": [
        "# standartizing the dataset by creating two copies from such documents and breaking up the 'complex' questions\n",
        "i = 0\n",
        "normalized_train = []\n",
        "for record in train:\n",
        "  if record.get('qa') is not None:\n",
        "    normalized_train.append(record)\n",
        "    i+=1\n",
        "    continue\n",
        "  elif record.get('qa_0') is not None:\n",
        "    record_copy_0 = deepcopy(record)\n",
        "    record_copy_1 = deepcopy(record)\n",
        "    record_copy_0['qa'] = record_copy_0['qa_0']\n",
        "    record_copy_1['qa'] = record_copy_1['qa_1']\n",
        "    del record_copy_0['qa_0']\n",
        "    del record_copy_0['qa_1']\n",
        "    del record_copy_1['qa_0']\n",
        "    del record_copy_1['qa_1']\n",
        "    normalized_train.append(record_copy_0)\n",
        "    normalized_train.append(record_copy_1)\n",
        "    i+=1\n",
        "   # maybe an edge case when we have neither qa nor qa_0 in data?\n",
        "  else:\n",
        "    print(\"ABNORMAL ENTRY\")\n",
        "    print(f\"Entry index is {i}; entry fields are {str(record.keys())}\")\n",
        "    i+=1\n",
        "\n",
        "\n",
        "\n",
        "\n"
      ],
      "metadata": {
        "id": "tiriCqGLpgKu"
      },
      "execution_count": 30,
      "outputs": []
    },
    {
      "cell_type": "code",
      "source": [
        "len(normalized_train)"
      ],
      "metadata": {
        "colab": {
          "base_uri": "https://localhost:8080/"
        },
        "id": "f0DBUaqCrCSi",
        "outputId": "c39cf289-f9b2-41a6-c81c-34455e4874b2"
      },
      "execution_count": 31,
      "outputs": [
        {
          "output_type": "execute_result",
          "data": {
            "text/plain": [
              "3965"
            ]
          },
          "metadata": {},
          "execution_count": 31
        }
      ]
    },
    {
      "cell_type": "markdown",
      "source": [
        "### Checking answer formats\n",
        "\n",
        "We need to chenck if all the answers can be converted to floats and convert them if that is the case. If not - consider adding additional instructions to QA prompt to specify output format\n"
      ],
      "metadata": {
        "id": "DYAmk174x91W"
      }
    },
    {
      "cell_type": "code",
      "source": [
        "normalized_train[100]['qa']"
      ],
      "metadata": {
        "colab": {
          "base_uri": "https://localhost:8080/"
        },
        "id": "k9R3nSyqOzH-",
        "outputId": "9b811953-49d9-4320-b75f-df1f22d6d63b"
      },
      "execution_count": 32,
      "outputs": [
        {
          "output_type": "execute_result",
          "data": {
            "text/plain": [
              "{'question': 'what is the short-term debt as a percent of long-term debt , in 2019?',\n",
              " 'answer': '1.80%',\n",
              " 'explanation': 'it is the short-term debt divided by the long-term debt ( the sum of both long-term debts ) , then turned into a percentage .',\n",
              " 'ann_table_rows': [1, 3, 4],\n",
              " 'ann_text_rows': [],\n",
              " 'steps': [{'op': 'add2-1',\n",
              "   'arg1': '2907.3',\n",
              "   'arg2': '320.1',\n",
              "   'res': '3227.4'},\n",
              "  {'op': 'divide2-2', 'arg1': '58.2', 'arg2': '#0', 'res': '1.80%'}],\n",
              " 'program': 'add(2907.3, 320.1), divide(58.2, #0)',\n",
              " 'gold_inds': {'table_1': '30 september the short-term borrowings of 2019 is $ 58.2 ; the short-term borrowings of 2018 is $ 54.3 ;',\n",
              "  'table_3': '30 september the long-term debt of 2019 is 2907.3 ; the long-term debt of 2018 is 2967.4 ;',\n",
              "  'table_4': '30 september the long-term debt 2013 related party ( b ) of 2019 is 320.1 ; the long-term debt 2013 related party ( b ) of 2018 is 384.3 ;'},\n",
              " 'exe_ans': 0.01803,\n",
              " 'program_re': 'divide(58.2, add(2907.3, 320.1))'}"
            ]
          },
          "metadata": {},
          "execution_count": 32
        }
      ]
    },
    {
      "cell_type": "code",
      "source": [
        "# the vast majority are float integers\n",
        "pd.Series([isinstance(el['qa']['exe_ans'], float) for el in normalized_train]).value_counts()"
      ],
      "metadata": {
        "colab": {
          "base_uri": "https://localhost:8080/",
          "height": 147
        },
        "id": "OGmVVNhHyUsj",
        "outputId": "d6599d4d-0a03-49a5-ca9e-6286288a6b78"
      },
      "execution_count": 33,
      "outputs": [
        {
          "output_type": "execute_result",
          "data": {
            "text/plain": [
              "True     3921\n",
              "False      44\n",
              "Name: count, dtype: int64"
            ],
            "text/html": [
              "<div>\n",
              "<style scoped>\n",
              "    .dataframe tbody tr th:only-of-type {\n",
              "        vertical-align: middle;\n",
              "    }\n",
              "\n",
              "    .dataframe tbody tr th {\n",
              "        vertical-align: top;\n",
              "    }\n",
              "\n",
              "    .dataframe thead th {\n",
              "        text-align: right;\n",
              "    }\n",
              "</style>\n",
              "<table border=\"1\" class=\"dataframe\">\n",
              "  <thead>\n",
              "    <tr style=\"text-align: right;\">\n",
              "      <th></th>\n",
              "      <th>count</th>\n",
              "    </tr>\n",
              "  </thead>\n",
              "  <tbody>\n",
              "    <tr>\n",
              "      <th>True</th>\n",
              "      <td>3921</td>\n",
              "    </tr>\n",
              "    <tr>\n",
              "      <th>False</th>\n",
              "      <td>44</td>\n",
              "    </tr>\n",
              "  </tbody>\n",
              "</table>\n",
              "</div><br><label><b>dtype:</b> int64</label>"
            ]
          },
          "metadata": {},
          "execution_count": 33
        }
      ]
    },
    {
      "cell_type": "code",
      "source": [
        "# but some are strings:\n",
        "pd.Series([type(el['qa']['exe_ans']) for el in normalized_train]).value_counts()"
      ],
      "metadata": {
        "colab": {
          "base_uri": "https://localhost:8080/",
          "height": 147
        },
        "id": "G_Ra8REk0p9T",
        "outputId": "41cb7458-de5d-4b7a-f980-94a4f2603c5f"
      },
      "execution_count": 34,
      "outputs": [
        {
          "output_type": "execute_result",
          "data": {
            "text/plain": [
              "<class 'float'>    3921\n",
              "<class 'str'>        44\n",
              "Name: count, dtype: int64"
            ],
            "text/html": [
              "<div>\n",
              "<style scoped>\n",
              "    .dataframe tbody tr th:only-of-type {\n",
              "        vertical-align: middle;\n",
              "    }\n",
              "\n",
              "    .dataframe tbody tr th {\n",
              "        vertical-align: top;\n",
              "    }\n",
              "\n",
              "    .dataframe thead th {\n",
              "        text-align: right;\n",
              "    }\n",
              "</style>\n",
              "<table border=\"1\" class=\"dataframe\">\n",
              "  <thead>\n",
              "    <tr style=\"text-align: right;\">\n",
              "      <th></th>\n",
              "      <th>count</th>\n",
              "    </tr>\n",
              "  </thead>\n",
              "  <tbody>\n",
              "    <tr>\n",
              "      <th>&lt;class 'float'&gt;</th>\n",
              "      <td>3921</td>\n",
              "    </tr>\n",
              "    <tr>\n",
              "      <th>&lt;class 'str'&gt;</th>\n",
              "      <td>44</td>\n",
              "    </tr>\n",
              "  </tbody>\n",
              "</table>\n",
              "</div><br><label><b>dtype:</b> int64</label>"
            ]
          },
          "metadata": {},
          "execution_count": 34
        }
      ]
    },
    {
      "cell_type": "code",
      "source": [
        "# the string answers all seem to be yes/no.\n",
        "\n",
        "pd.Series([el['qa']['exe_ans'] for el in normalized_train\n",
        "           if isinstance(el['qa']['exe_ans'], str)]).value_counts()"
      ],
      "metadata": {
        "colab": {
          "base_uri": "https://localhost:8080/",
          "height": 147
        },
        "id": "8rQ1azKq026O",
        "outputId": "ee6cdefd-3b7b-49da-cef8-3dc36a0903aa"
      },
      "execution_count": 35,
      "outputs": [
        {
          "output_type": "execute_result",
          "data": {
            "text/plain": [
              "yes    28\n",
              "no     16\n",
              "Name: count, dtype: int64"
            ],
            "text/html": [
              "<div>\n",
              "<style scoped>\n",
              "    .dataframe tbody tr th:only-of-type {\n",
              "        vertical-align: middle;\n",
              "    }\n",
              "\n",
              "    .dataframe tbody tr th {\n",
              "        vertical-align: top;\n",
              "    }\n",
              "\n",
              "    .dataframe thead th {\n",
              "        text-align: right;\n",
              "    }\n",
              "</style>\n",
              "<table border=\"1\" class=\"dataframe\">\n",
              "  <thead>\n",
              "    <tr style=\"text-align: right;\">\n",
              "      <th></th>\n",
              "      <th>count</th>\n",
              "    </tr>\n",
              "  </thead>\n",
              "  <tbody>\n",
              "    <tr>\n",
              "      <th>yes</th>\n",
              "      <td>28</td>\n",
              "    </tr>\n",
              "    <tr>\n",
              "      <th>no</th>\n",
              "      <td>16</td>\n",
              "    </tr>\n",
              "  </tbody>\n",
              "</table>\n",
              "</div><br><label><b>dtype:</b> int64</label>"
            ]
          },
          "metadata": {},
          "execution_count": 35
        }
      ]
    },
    {
      "cell_type": "code",
      "source": [
        "# encoding them as bool\n",
        "for record in normalized_train:\n",
        "  if isinstance(record['qa']['exe_ans'], float):\n",
        "    record['qa']['exe_ans_float'] = record['qa']['exe_ans']\n",
        "    record['qa']['exe_ans_type'] = 'float'\n",
        "  else:\n",
        "    record['qa']['exe_ans_float'] = 1 if record['qa']['exe_ans'] == 'yes' else 0\n",
        "    record['qa']['exe_ans_type'] = 'bool'\n"
      ],
      "metadata": {
        "id": "0Awvgh3_3HSK"
      },
      "execution_count": 36,
      "outputs": []
    },
    {
      "cell_type": "code",
      "source": [],
      "metadata": {
        "id": "h_MRYRkVIyku"
      },
      "execution_count": 36,
      "outputs": []
    },
    {
      "cell_type": "markdown",
      "source": [
        "# Conclusions:\n",
        "\n",
        "* each question is asked based on a specific document. There are several question-answer pairs based on the same documents.\n",
        "* In 'qa' part of the document, we can see 'gold_inds' and 'exe_ans' - they indicate the parts of the tables that were used to answer a given question and a raw question response, respectively. There is also a field called 'explanation' that links the raw bits of extracted text witht he final answer.\n",
        "* the tables are flattened and can be preprocessed, they were preprocessed and added as statements to the overall context\n",
        "* The answers are mostly float integers with some text answers that can be encoded as Boolean (yes/no)"
      ],
      "metadata": {
        "id": "3ejBpqZGmdn_"
      }
    },
    {
      "cell_type": "markdown",
      "source": [
        "### Research Plan for RAG\n",
        "\n",
        "Q: Why not pass full documents into the context window of the llm?\n",
        "\n",
        "A: I think it is not the best idea. The documents provided are exceptionally dense with numbers and it might exceed context window of an LLM or make the reasoning more difficult in presence of multiple figures. Some additional reasoning step are required to answer qa questions.\n",
        "\n",
        "Therefore, I am going to implement a multistep RAG extraction.\n",
        "\n",
        "#### Step 1. Pseudo-retriever using the cheaper model\n",
        "\n",
        "As step 1, I will create a prompt that inputs BOTH question and full context in the LLM and asks: \"Name the entities listed in the following document that can be used to answer this question\"? The answer will be used to create a pseudo-retriever.\n",
        "\n",
        "Using the 'qa' fields, the retriever query should roughly map to 'explanation' field, containing a list of building blocks and / or steps needed to execute the final operation in 'question'.\n",
        "\n",
        "We can use a cheaper model for this extraction due to the larger size of the input / output and less need for precise answer.\n",
        "\n",
        "#### Step 2. QA\n",
        "\n",
        "Using 'qa' question and retrieved context (as an output of the first query), we extract the answer using a model or models available (since it is POC, I will use OpenAI only and would not bother too much with model-agnostic achitecture).\n",
        "\n",
        "#### Step 3. Eval\n",
        "\n",
        "We compare the answer we get (number or numbers only, rounded to .0000 percentage points) and the 'Ground Truth' answer provided in the documents (converted to a number or numbers, with the same rounding). We calculate\n",
        "\n",
        "* the %% difference between 'our' answer and 'true' answer\n",
        "\n",
        "* the median, max, and the proportion of entries that are within 1 percentage point difference between 'our' and 'ground truth' numbers"
      ],
      "metadata": {
        "id": "BprI_eBQrW7u"
      }
    },
    {
      "cell_type": "markdown",
      "source": [
        "# Step 1. Generate the retriever query\n",
        "\n",
        "Use model: gpt-4o-mini-2024-07-18\n",
        "\n",
        "Cost per 1m input tokens: $0.150\n",
        "\n",
        "Cost per 1m output tokens: $0.075\n",
        "\n",
        "Maxinum length of the output: 2000 tokens"
      ],
      "metadata": {
        "id": "7Npq-dNV26No"
      }
    },
    {
      "cell_type": "code",
      "source": [
        "# estimating total cost of this step with tiktoken\n",
        "input_cost_1m = 0.15\n",
        "output_cost_1m = 0.075\n",
        "\n",
        "def return_full_prompt_string_pseudoretriever(record):\n",
        "  qa_question = record['qa']['question']\n",
        "  context = record['full_text_string']\n",
        "  system_message = \"\"\"You are a helpful AI assistant specializing in financial data and calculations.\n",
        "  Provide an answer to the prompt using examples under the prompt as your guidance.\n",
        "  Do NOT return anything that is not in the text of the prompt.\n",
        "  If you cannot find anything at all in context to satisfy the prompt condition, return empty string.\"\"\"\n",
        "\n",
        "  user_message = f\"\"\"Given financial question: {qa_question} and the context: {context},\n",
        "  return the facts listed in the context that would serve to calculate the answer\n",
        "  for the question. Return a list of items from text and tables of the context, separated by comma.\n",
        "  If returning numerical facts, always return full definition of a given fact - i.e. 'annual budget $100 mln', not '$100 mln'.\n",
        "\n",
        "  Example input: 'Given financial question: 'What is greater - sum of j's in column A or Column B?'\n",
        "  and the context: j1 in A: 3, j1 in B: 4, j1 in C: 5, j2 in A: 3, j2 in B: 4, j2 in C: 5,\n",
        "  return the metrics listed in the context that would serve to calculate the answer\n",
        "  for the question. Return a list of items from text and tables of the context, separated by comma.'\n",
        "  Example output: 'j1 in A: 3, j1 in B: 4, j2 in A: 3, j2 in B: 4'\n",
        "  \"\"\"\n",
        "\n",
        "  return([{\"role\": \"system\", \"content\": system_message}, {\"role\": \"user\", \"content\": user_message}])\n"
      ],
      "metadata": {
        "id": "ZE7n7Iyya4pQ"
      },
      "execution_count": 70,
      "outputs": []
    },
    {
      "cell_type": "code",
      "source": [
        "return_full_prompt_string_pseudoretriever(normalized_train[0])"
      ],
      "metadata": {
        "collapsed": true,
        "colab": {
          "base_uri": "https://localhost:8080/"
        },
        "id": "zLHBMN-ehphR",
        "outputId": "151ce4e4-266c-420e-d62a-d30d72b05abd"
      },
      "execution_count": 71,
      "outputs": [
        {
          "output_type": "execute_result",
          "data": {
            "text/plain": [
              "[{'role': 'system',\n",
              "  'content': 'You are a helpful AI assistant specializing in financial data and calculations. \\n  Provide an answer to the prompt using examples under the prompt as your guidance.\\n  Do NOT return anything that is not in the text of the prompt. \\n  If you cannot find anything at all in context to satisfy the prompt condition, return empty string.'},\n",
              " {'role': 'user',\n",
              "  'content': \"Given financial question: what was the percentage change in the net cash from operating activities from 2008 to 2009 and the context: 26 | 2009 annual report in fiscal 2008 , revenues in the credit union systems and services business segment increased 14% ( 14 % ) from fiscal 2007 . all revenue components within the segment experienced growth during fiscal 2008 . license revenue generated the largest dollar growth in revenue as episys ae , our flagship core processing system aimed at larger credit unions , experienced strong sales throughout the year . support and service revenue , which is the largest component of total revenues for the credit union segment , experienced 34 percent growth in eft support and 10 percent growth in in-house support . gross profit in this business segment increased $ 9344 in fiscal 2008 compared to fiscal 2007 , due primarily to the increase in license revenue , which carries the highest margins . liquidity and capital resources we have historically generated positive cash flow from operations and have generally used funds generated from operations and short-term borrowings on our revolving credit facility to meet capital requirements . we expect this trend to continue in the future . the company 2019s cash and cash equivalents increased to $ 118251 at june 30 , 2009 from $ 65565 at june 30 , 2008 . the following table summarizes net cash from operating activities in the statement of cash flows : 2009 2008 2007 . table data: net income 2008 year ended june 30 2009 2008 : $ 103102;   net income 2008 year ended june 30 2009 2008 : $ 104222;   net income 2008 year ended june 30 2009 : $ 104681;   non-cash expenses 2008 year ended june 30 2009 2008 : 74397;   non-cash expenses 2008 year ended june 30 2009 2008 : 70420;   non-cash expenses 2008 year ended june 30 2009 : 56348;   change in receivables 2008 year ended june 30 2009 2008 : 21214;   change in receivables 2008 year ended june 30 2009 2008 : -2913 ( 2913 );   change in receivables 2008 year ended june 30 2009 : -28853 ( 28853 );   change in deferred revenue 2008 year ended june 30 2009 2008 : 21943;   change in deferred revenue 2008 year ended june 30 2009 2008 : 5100;   change in deferred revenue 2008 year ended june 30 2009 : 24576;   change in other assets and liabilities 2008 year ended june 30 2009 2008 : -14068 ( 14068 );   change in other assets and liabilities 2008 year ended june 30 2009 2008 : 4172;   change in other assets and liabilities 2008 year ended june 30 2009 : 17495;   net cash from operating activities 2008 year ended june 30 2009 2008 : $ 206588;   net cash from operating activities 2008 year ended june 30 2009 2008 : $ 181001;   net cash from operating activities 2008 year ended june 30 2009 : $ 174247 end of the table. year ended june 30 , cash provided by operations increased $ 25587 to $ 206588 for the fiscal year ended june 30 , 2009 as compared to $ 181001 for the fiscal year ended june 30 , 2008 . this increase is primarily attributable to a decrease in receivables compared to the same period a year ago of $ 21214 . this decrease is largely the result of fiscal 2010 annual software maintenance billings being provided to customers earlier than in the prior year , which allowed more cash to be collected before the end of the fiscal year than in previous years . further , we collected more cash overall related to revenues that will be recognized in subsequent periods in the current year than in fiscal 2008 . cash used in investing activities for the fiscal year ended june 2009 was $ 59227 and includes $ 3027 in contingent consideration paid on prior years 2019 acquisitions . cash used in investing activities for the fiscal year ended june 2008 was $ 102148 and includes payments for acquisitions of $ 48109 , plus $ 1215 in contingent consideration paid on prior years 2019 acquisitions . capital expenditures for fiscal 2009 were $ 31562 compared to $ 31105 for fiscal 2008 . cash used for software development in fiscal 2009 was $ 24684 compared to $ 23736 during the prior year . net cash used in financing activities for the current fiscal year was $ 94675 and includes the repurchase of 3106 shares of our common stock for $ 58405 , the payment of dividends of $ 26903 and $ 13489 net repayment on our revolving credit facilities . cash used in financing activities was partially offset by proceeds of $ 3773 from the exercise of stock options and the sale of common stock ( through the employee stock purchase plan ) and $ 348 excess tax benefits from stock option exercises . during fiscal 2008 , net cash used in financing activities for the fiscal year was $ 101905 and includes the repurchase of 4200 shares of our common stock for $ 100996 , the payment of dividends of $ 24683 and $ 429 net repayment on our revolving credit facilities . cash used in financing activities was partially offset by proceeds of $ 20394 from the exercise of stock options and the sale of common stock and $ 3809 excess tax benefits from stock option exercises . beginning during fiscal 2008 , us financial markets and many of the largest us financial institutions have been shaken by negative developments in the home mortgage industry and the mortgage markets , and particularly the markets for subprime mortgage-backed securities . since that time , these and other such developments have resulted in a broad , global economic downturn . while we , as is the case with most companies , have experienced the effects of this downturn , we have not experienced any significant issues with our current collection efforts , and we believe that any future impact to our liquidity will be minimized by cash generated by recurring sources of revenue and due to our access to available lines of credit. ., \\n  return the facts listed in the context that would serve to calculate the answer \\n  for the question. Return a list of items from text and tables of the context, separated by comma. \\n  If returning numerical facts, always return full definition of a given fact - i.e. 'annual budget $100 mln', not '$100 mln'.\\n  \\n  Example input: 'Given financial question: 'What is greater - sum of j's in column A or Column B?'  \\n  and the context: j1 in A: 3, j1 in B: 4, j1 in C: 5, j2 in A: 3, j2 in B: 4, j2 in C: 5,\\n  return the metrics listed in the context that would serve to calculate the answer \\n  for the question. Return a list of items from text and tables of the context, separated by comma.'\\n  Example output: 'j1 in A: 3, j1 in B: 4, j2 in A: 3, j2 in B: 4'\\n  \"}]"
            ]
          },
          "metadata": {},
          "execution_count": 71
        }
      ]
    },
    {
      "cell_type": "code",
      "source": [
        "\n",
        "  # eval all input tokens on a new titktoken enconding\n",
        "  # change to cl100k_base if running with older models\n",
        "encoding = tiktoken.get_encoding(\"o200k_base\")\n",
        "\n",
        "total_n_input_tokens = sum([len(encoding.encode(str(return_full_prompt_string_pseudoretriever(record))))\n",
        "                            for record in normalized_train])\n"
      ],
      "metadata": {
        "id": "Ph60sngl28gb"
      },
      "execution_count": 72,
      "outputs": []
    },
    {
      "cell_type": "code",
      "source": [
        "print(total_n_input_tokens)\n",
        "input_cost = (total_n_input_tokens / 1000000) * input_cost_1m\n",
        "print(input_cost)\n",
        "\n",
        "# looks like inputs are pretty cheap"
      ],
      "metadata": {
        "colab": {
          "base_uri": "https://localhost:8080/"
        },
        "id": "GtTxIuYwik2h",
        "outputId": "ac76640d-b01c-44d0-a622-e0ec9fa48729"
      },
      "execution_count": 73,
      "outputs": [
        {
          "output_type": "stream",
          "name": "stdout",
          "text": [
            "5555460\n",
            "0.833319\n"
          ]
        }
      ]
    },
    {
      "cell_type": "code",
      "source": [
        "# calculate outputs based on max output token param of 2000\n",
        "output_cost = output_cost_1m * ((len(normalized_train) * 2000)/1000000)\n",
        "print(output_cost)\n",
        "# pocket change"
      ],
      "metadata": {
        "colab": {
          "base_uri": "https://localhost:8080/"
        },
        "id": "jvub3t_XiqBG",
        "outputId": "f6e9d44a-a57a-4518-b036-2481cf14ed45"
      },
      "execution_count": 74,
      "outputs": [
        {
          "output_type": "stream",
          "name": "stdout",
          "text": [
            "0.59475\n"
          ]
        }
      ]
    },
    {
      "cell_type": "code",
      "source": [
        "openai_api_key = os.environ['OPENAI_API_KEY']"
      ],
      "metadata": {
        "id": "szkKKGcpmHDk"
      },
      "execution_count": 75,
      "outputs": []
    },
    {
      "cell_type": "code",
      "source": [
        "# run extraction\n",
        "sample_prompt = return_full_prompt_string_pseudoretriever(normalized_train[0])\n",
        "\n"
      ],
      "metadata": {
        "id": "SNNIDyYijjl3"
      },
      "execution_count": 79,
      "outputs": []
    },
    {
      "cell_type": "code",
      "source": [
        "client = openai.OpenAI(api_key = openai_api_key)"
      ],
      "metadata": {
        "id": "-3HuPwhyl2DY"
      },
      "execution_count": 80,
      "outputs": []
    },
    {
      "cell_type": "code",
      "source": [
        "sample_response = client.chat.completions.create(\n",
        "    model=\"gpt-4o-mini-2024-07-18\",\n",
        "    messages=sample_prompt,\n",
        "    max_tokens=2000,\n",
        "    # we need the least amount of imagination from llm\n",
        "    temperature=0.0,\n",
        ")"
      ],
      "metadata": {
        "id": "wIW9gTh4jpPj"
      },
      "execution_count": 81,
      "outputs": []
    },
    {
      "cell_type": "code",
      "source": [
        "sample_response"
      ],
      "metadata": {
        "colab": {
          "base_uri": "https://localhost:8080/"
        },
        "id": "glYfD3gOPbLm",
        "outputId": "acb9ceda-24fc-415e-eb58-e4b173e7fa81"
      },
      "execution_count": 82,
      "outputs": [
        {
          "output_type": "execute_result",
          "data": {
            "text/plain": [
              "ChatCompletion(id='chatcmpl-AbXOk6e0fZWYRXFreOGB4Uy5nvxTT', choices=[Choice(finish_reason='stop', index=0, logprobs=None, message=ChatCompletionMessage(content='net cash from operating activities 2009 year ended June 30: $206588, net cash from operating activities 2008 year ended June 30: $181001', refusal=None, role='assistant', audio=None, function_call=None, tool_calls=None))], created=1733509882, model='gpt-4o-mini-2024-07-18', object='chat.completion', service_tier=None, system_fingerprint='fp_bba3c8e70b', usage=CompletionUsage(completion_tokens=35, prompt_tokens=1667, total_tokens=1702, completion_tokens_details=CompletionTokensDetails(accepted_prediction_tokens=0, audio_tokens=0, reasoning_tokens=0, rejected_prediction_tokens=0), prompt_tokens_details=PromptTokensDetails(audio_tokens=0, cached_tokens=1536)))"
            ]
          },
          "metadata": {},
          "execution_count": 82
        }
      ]
    },
    {
      "cell_type": "code",
      "source": [
        "# run the extraction and put the raw responses into the model\n",
        "i = 0\n",
        "for record in normalized_train:\n",
        "  if i % 100 == 0:\n",
        "    print (i)\n",
        "\n",
        "  prompt = return_full_prompt_string_pseudoretriever(record)\n",
        "\n",
        "  response = client.chat.completions.create(\n",
        "    model=\"gpt-4o-mini-2024-07-18\",\n",
        "    messages=prompt,\n",
        "    max_tokens=2000,\n",
        "    temperature=0.0,\n",
        "  )\n",
        "  parsed_response  = response.choices[0].message.content\n",
        "  record['full_llm_response_pseudoretriever'] = response\n",
        "  record['parsed_string_llm_response_pseudoretriever'] = parsed_response\n",
        "\n",
        "  # little timeout not to stress him too much\n",
        "  sleep(0.1)\n",
        "  i += 1\n",
        "\n",
        "\n",
        "\n",
        "\n"
      ],
      "metadata": {
        "colab": {
          "base_uri": "https://localhost:8080/"
        },
        "id": "JNp23KuAj_gr",
        "outputId": "29adaae4-0fa8-4886-b6fa-9ae22af59a04"
      },
      "execution_count": 85,
      "outputs": [
        {
          "output_type": "stream",
          "name": "stdout",
          "text": [
            "0\n",
            "100\n",
            "200\n",
            "300\n",
            "400\n",
            "500\n",
            "600\n",
            "700\n",
            "800\n",
            "900\n",
            "1000\n",
            "1100\n",
            "1200\n",
            "1300\n",
            "1400\n",
            "1500\n",
            "1600\n",
            "1700\n",
            "1800\n",
            "1900\n",
            "2000\n",
            "2100\n",
            "2200\n",
            "2300\n",
            "2400\n",
            "2500\n",
            "2600\n",
            "2700\n",
            "2800\n",
            "2900\n",
            "3000\n",
            "3100\n",
            "3200\n",
            "3300\n",
            "3400\n",
            "3500\n",
            "3600\n",
            "3700\n",
            "3800\n",
            "3900\n"
          ]
        }
      ]
    },
    {
      "cell_type": "code",
      "source": [
        "# evaluating retrieved information\n",
        "\n",
        "retrieved_context = pd.Series([el['parsed_string_llm_response_pseudoretriever'] for el in normalized_train])"
      ],
      "metadata": {
        "id": "cITdT1vUv7t4"
      },
      "execution_count": 86,
      "outputs": []
    },
    {
      "cell_type": "code",
      "source": [
        "retrieved_context.describe()"
      ],
      "metadata": {
        "colab": {
          "base_uri": "https://localhost:8080/",
          "height": 210
        },
        "id": "--xJEXgWNZf2",
        "outputId": "ff5e1c9e-883d-4728-ff66-6d878a804899"
      },
      "execution_count": 87,
      "outputs": [
        {
          "output_type": "execute_result",
          "data": {
            "text/plain": [
              "count                                                  3965\n",
              "unique                                                 3335\n",
              "top       allowance for other funds used during construc...\n",
              "freq                                                      4\n",
              "dtype: object"
            ],
            "text/html": [
              "<div>\n",
              "<style scoped>\n",
              "    .dataframe tbody tr th:only-of-type {\n",
              "        vertical-align: middle;\n",
              "    }\n",
              "\n",
              "    .dataframe tbody tr th {\n",
              "        vertical-align: top;\n",
              "    }\n",
              "\n",
              "    .dataframe thead th {\n",
              "        text-align: right;\n",
              "    }\n",
              "</style>\n",
              "<table border=\"1\" class=\"dataframe\">\n",
              "  <thead>\n",
              "    <tr style=\"text-align: right;\">\n",
              "      <th></th>\n",
              "      <th>0</th>\n",
              "    </tr>\n",
              "  </thead>\n",
              "  <tbody>\n",
              "    <tr>\n",
              "      <th>count</th>\n",
              "      <td>3965</td>\n",
              "    </tr>\n",
              "    <tr>\n",
              "      <th>unique</th>\n",
              "      <td>3335</td>\n",
              "    </tr>\n",
              "    <tr>\n",
              "      <th>top</th>\n",
              "      <td>allowance for other funds used during construc...</td>\n",
              "    </tr>\n",
              "    <tr>\n",
              "      <th>freq</th>\n",
              "      <td>4</td>\n",
              "    </tr>\n",
              "  </tbody>\n",
              "</table>\n",
              "</div><br><label><b>dtype:</b> object</label>"
            ]
          },
          "metadata": {},
          "execution_count": 87
        }
      ]
    },
    {
      "cell_type": "code",
      "source": [
        "shortest_strings = retrieved_context.loc[retrieved_context.str.len().nsmallest(15).index]\n"
      ],
      "metadata": {
        "id": "4FsnOI-ZNuwN"
      },
      "execution_count": 88,
      "outputs": []
    },
    {
      "cell_type": "code",
      "source": [
        "print(shortest_strings)"
      ],
      "metadata": {
        "colab": {
          "base_uri": "https://localhost:8080/"
        },
        "id": "m1YxxuNHOZE9",
        "outputId": "618465ef-0959-4a70-9f39-bb22b6d37099"
      },
      "execution_count": 89,
      "outputs": [
        {
          "output_type": "stream",
          "name": "stdout",
          "text": [
            "1084                                            \n",
            "1638                                            \n",
            "2494                                            \n",
            "535             ifs 2017: $4630, ifs 2016: $4525\n",
            "3798            ifs 2017: $4630, ifs 2016: $4525\n",
            "2153           total eu (1): 13, total total: 46\n",
            "330          sales 2014: $8.5, sales 2013: $52.3\n",
            "3412        q 5/9/2013: $100, q 12/31/2014: $140\n",
            "449       display 2015: $525, display 2014: $593\n",
            "459       vehicles 2015: $74, vehicles 2014: $86\n",
            "2566      vehicles 2017: $70, vehicles 2016: $68\n",
            "2708      volatility 2018: 26% (26%) - 29% (29%)\n",
            "2831      volatility 2017: 22% (22%) - 27% (27%)\n",
            "1657    $539 million, $200 million, $456 million\n",
            "2019    aircraft 2015: 2289, aircraft 2014: 2289\n",
            "dtype: object\n"
          ]
        }
      ]
    },
    {
      "cell_type": "code",
      "source": [
        "# average string length and distribution\n",
        "pr_strings_len = pd.Series([len(el['parsed_string_llm_response_pseudoretriever']) for el in normalized_train])\n",
        "pr_strings_len.hist(bins = 100)"
      ],
      "metadata": {
        "colab": {
          "base_uri": "https://localhost:8080/",
          "height": 448
        },
        "id": "NOpAmPzxQNHN",
        "outputId": "2f70d93c-b9a6-4479-dc77-34a786acc274"
      },
      "execution_count": 98,
      "outputs": [
        {
          "output_type": "execute_result",
          "data": {
            "text/plain": [
              "<Axes: >"
            ]
          },
          "metadata": {},
          "execution_count": 98
        },
        {
          "output_type": "display_data",
          "data": {
            "text/plain": [
              "<Figure size 640x480 with 1 Axes>"
            ],
            "image/png": "[encoded data removed]"
          },
          "metadata": {}
        }
      ]
    },
    {
      "cell_type": "code",
      "source": [
        "pr_strings_len.describe()"
      ],
      "metadata": {
        "colab": {
          "base_uri": "https://localhost:8080/",
          "height": 335
        },
        "id": "ZM7Csv-WQmnn",
        "outputId": "011e587c-c19b-474d-fae2-9301f4d012fd"
      },
      "execution_count": 91,
      "outputs": [
        {
          "output_type": "execute_result",
          "data": {
            "text/plain": [
              "count    3965.000000\n",
              "mean      200.530643\n",
              "std       204.291440\n",
              "min         0.000000\n",
              "25%       105.000000\n",
              "50%       148.000000\n",
              "75%       229.000000\n",
              "max      7109.000000\n",
              "dtype: float64"
            ],
            "text/html": [
              "<div>\n",
              "<style scoped>\n",
              "    .dataframe tbody tr th:only-of-type {\n",
              "        vertical-align: middle;\n",
              "    }\n",
              "\n",
              "    .dataframe tbody tr th {\n",
              "        vertical-align: top;\n",
              "    }\n",
              "\n",
              "    .dataframe thead th {\n",
              "        text-align: right;\n",
              "    }\n",
              "</style>\n",
              "<table border=\"1\" class=\"dataframe\">\n",
              "  <thead>\n",
              "    <tr style=\"text-align: right;\">\n",
              "      <th></th>\n",
              "      <th>0</th>\n",
              "    </tr>\n",
              "  </thead>\n",
              "  <tbody>\n",
              "    <tr>\n",
              "      <th>count</th>\n",
              "      <td>3965.000000</td>\n",
              "    </tr>\n",
              "    <tr>\n",
              "      <th>mean</th>\n",
              "      <td>200.530643</td>\n",
              "    </tr>\n",
              "    <tr>\n",
              "      <th>std</th>\n",
              "      <td>204.291440</td>\n",
              "    </tr>\n",
              "    <tr>\n",
              "      <th>min</th>\n",
              "      <td>0.000000</td>\n",
              "    </tr>\n",
              "    <tr>\n",
              "      <th>25%</th>\n",
              "      <td>105.000000</td>\n",
              "    </tr>\n",
              "    <tr>\n",
              "      <th>50%</th>\n",
              "      <td>148.000000</td>\n",
              "    </tr>\n",
              "    <tr>\n",
              "      <th>75%</th>\n",
              "      <td>229.000000</td>\n",
              "    </tr>\n",
              "    <tr>\n",
              "      <th>max</th>\n",
              "      <td>7109.000000</td>\n",
              "    </tr>\n",
              "  </tbody>\n",
              "</table>\n",
              "</div><br><label><b>dtype:</b> float64</label>"
            ]
          },
          "metadata": {},
          "execution_count": 91
        }
      ]
    },
    {
      "cell_type": "markdown",
      "source": [
        "# Step 2. QA\n",
        "\n",
        "Use model: gpt-4o-2024-08-06\n",
        "\n",
        "Cost per 1m input tokens: $2.50\n",
        "\n",
        "Cost per 1m output tokens: $10.00\n",
        "\n",
        "Maxinum length of the output: 50 tokens"
      ],
      "metadata": {
        "id": "iZd6RbkfvJIo"
      }
    },
    {
      "cell_type": "code",
      "source": [
        "def return_full_prompt_string_qa(record):\n",
        "  qa_question = record['qa']['question']\n",
        "  context = record['parsed_string_llm_response_pseudoretriever']\n",
        "\n",
        "  additional_boolean_instruction = 'If the answer to the prompt is yes, return 1. If the answer is no, return 0.'\n",
        "\n",
        "  system_message = f\"\"\"You are a top finance expert specializing in financial and economic calculations.\n",
        "  Provide an answer to the prompt using examples as your guidance.\n",
        "  If you cannot find anything at all in context to answer the prompt question, return 'no_support_info'.\n",
        "  \"\"\"\n",
        "\n",
        "\n",
        "  user_message = f\"\"\"Given financial question: {qa_question} and the context: {context},\n",
        "  calculate and return the answer to this question as ONE SINGLE NUMBER. While calculating an answer,\n",
        "  follow the mathematical order of operations and think of step-by-step approach to solve the calculation.\n",
        "  Do NOT output these intermediate calculations as the answer, return only the final result.\n",
        "  Output format rules:\n",
        "\n",
        "  1. If the answer to the prompt is a number, return just a number rounded to the .0000 (4th decimal point),\n",
        "  2. No additional symbols such as % or currency symbols, and no thousands separator.\n",
        "  3. If the number is a percentage, return the decimal fraction of that percentage (for example, 0.3 for 30%)\n",
        "  4. If the answer to the prompt is yes, return 1. If the answer is no, return 0.\n",
        "\n",
        "\n",
        "  Example input: 'Given financial question: 'What is a percentage difference between j1 and j2 performance across A, B and C'\n",
        "  and the context: j1 in A: 3, j1 in B: 4, j1 in C: 5, j2 in A: 3, j2 in B: 4, j2 in C: 5,\n",
        "  calculate and return the answer to this question. While calculating an answer,\n",
        "  follow the mathematical order of operations and think of step-by-step approach to solve the calculation.'\n",
        "  Example output: '0'\n",
        "  \"\"\"\n",
        "\n",
        "  return([{\"role\": \"system\", \"content\": system_message}, {\"role\": \"user\", \"content\": user_message}])\n"
      ],
      "metadata": {
        "id": "3-ms_K7bqGa1"
      },
      "execution_count": 101,
      "outputs": []
    },
    {
      "cell_type": "code",
      "source": [
        "input_cost_1m_qa = 2.5\n",
        "output_cost_1m_qa = 10\n",
        "total_n_input_tokens_qa = sum([len(encoding.encode(str(return_full_prompt_string_qa(record))))\n",
        "                            for record in normalized_train])\n",
        "print(total_n_input_tokens_qa)\n",
        "input_cost_qa = (total_n_input_tokens_qa / 1000000) * input_cost_1m_qa\n",
        "print(input_cost_qa)\n",
        "\n",
        "output_cost = output_cost_1m * ((len(normalized_train) * 50)/1000000)\n",
        "print(output_cost)\n",
        "# the main extraction costs about $4.50"
      ],
      "metadata": {
        "colab": {
          "base_uri": "https://localhost:8080/"
        },
        "id": "wN4M-rQP16P-",
        "outputId": "085c5ef4-38eb-4246-96a7-6ec3e37d26fd"
      },
      "execution_count": 102,
      "outputs": [
        {
          "output_type": "stream",
          "name": "stdout",
          "text": [
            "1909383\n",
            "4.7734575\n",
            "0.01486875\n"
          ]
        }
      ]
    },
    {
      "cell_type": "code",
      "source": [
        "sample_prompt_qa = return_full_prompt_string_qa(normalized_train[-1])\n"
      ],
      "metadata": {
        "id": "znrWLEz816aA"
      },
      "execution_count": 104,
      "outputs": []
    },
    {
      "cell_type": "code",
      "source": [
        "sample_prompt_qa"
      ],
      "metadata": {
        "colab": {
          "base_uri": "https://localhost:8080/"
        },
        "id": "nsE3HwAmNPlJ",
        "outputId": "cd3cd577-4ea1-4260-f1f0-494c79e28fb2"
      },
      "execution_count": 106,
      "outputs": [
        {
          "output_type": "execute_result",
          "data": {
            "text/plain": [
              "[{'role': 'system',\n",
              "  'content': \"You are a top finance expert specializing in financial and economic calculations. \\n  Provide an answer to the prompt using examples as your guidance.\\n  If you cannot find anything at all in context to answer the prompt question, return 'no_support_info'. \\n  \"},\n",
              " {'role': 'user',\n",
              "  'content': \"Given financial question: what was the average capital expenditures , in millions , for 2016 and 2015? and the context: capital expenditures for 2016: $64 million, capital expenditures for 2015: $90 million, \\n  calculate and return the answer to this question as ONE SINGLE NUMBER. While calculating an answer, \\n  follow the mathematical order of operations and think of step-by-step approach to solve the calculation. \\n  Do NOT output these intermediate calculations as the answer, return only the final result.\\n  Output format rules:\\n\\n  1. If the answer to the prompt is a number, return just a number rounded to the .0000 (4th decimal point),\\n  2. No additional symbols such as % or currency symbols, and no thousands separator. \\n  3. If the number is a percentage, return the decimal fraction of that percentage (for example, 0.3 for 30%)\\n  4. If the answer to the prompt is yes, return 1. If the answer is no, return 0.\\n\\n  \\n  Example input: 'Given financial question: 'What is a percentage difference between j1 and j2 performance across A, B and C'  \\n  and the context: j1 in A: 3, j1 in B: 4, j1 in C: 5, j2 in A: 3, j2 in B: 4, j2 in C: 5,\\n  calculate and return the answer to this question. While calculating an answer, \\n  follow the mathematical order of operations and think of step-by-step approach to solve the calculation.'\\n  Example output: '0'\\n  \"}]"
            ]
          },
          "metadata": {},
          "execution_count": 106
        }
      ]
    },
    {
      "cell_type": "code",
      "source": [
        "sample_response_qa = client.chat.completions.create(\n",
        "    model=\"gpt-4o-2024-08-06\",\n",
        "    messages=sample_prompt_qa,\n",
        "    max_tokens=2000,\n",
        "    # we need the least amount of imagination from llm\n",
        "    temperature=0.0,\n",
        ")"
      ],
      "metadata": {
        "id": "xe4UepKG16dG"
      },
      "execution_count": 107,
      "outputs": []
    },
    {
      "cell_type": "code",
      "source": [
        "# run the main extraction and put the raw responses into the model\n",
        "i = 0\n",
        "for record in normalized_train:\n",
        "  if i % 100 == 0:\n",
        "    print (i)\n",
        "  if isinstance(record['qa_ans'], float):\n",
        "    i += 1\n",
        "    continue\n",
        "\n",
        "  prompt = return_full_prompt_string_qa(record)\n",
        "\n",
        "  response = client.chat.completions.create(\n",
        "    model=\"gpt-4o-2024-08-06\",\n",
        "    messages=prompt,\n",
        "    max_tokens=50,\n",
        "    temperature=0.0,\n",
        "  )\n",
        "  parsed_response  = response.choices[0].message.content\n",
        "  record['full_llm_response_qa'] = response\n",
        "  record['parsed_string_llm_response_qa'] = parsed_response\n",
        "\n",
        "  # little timeout not to stress him too much\n",
        "  sleep(0.1)\n",
        "  i += 1"
      ],
      "metadata": {
        "colab": {
          "base_uri": "https://localhost:8080/"
        },
        "id": "pYUmSgsL16gn",
        "outputId": "9aa28dfc-8155-4a90-fc8f-2b095763bba9"
      },
      "execution_count": 122,
      "outputs": [
        {
          "output_type": "stream",
          "name": "stdout",
          "text": [
            "0\n",
            "100\n",
            "200\n",
            "300\n",
            "400\n",
            "500\n",
            "600\n",
            "700\n",
            "800\n",
            "900\n",
            "1000\n",
            "1100\n",
            "1200\n",
            "1300\n",
            "1400\n",
            "1500\n",
            "1600\n",
            "1700\n",
            "1800\n",
            "1900\n",
            "2000\n",
            "2100\n",
            "2200\n",
            "2300\n",
            "2400\n",
            "2500\n",
            "2600\n",
            "2700\n",
            "2800\n",
            "2900\n",
            "3000\n",
            "3100\n",
            "3200\n",
            "3300\n",
            "3400\n",
            "3500\n",
            "3600\n",
            "3700\n",
            "3800\n",
            "3900\n"
          ]
        }
      ]
    },
    {
      "cell_type": "code",
      "source": [
        "import re\n",
        "# postprocessing the number\n",
        "\n",
        "def postprocess_number(text_number):\n",
        "  # return none if no answer is provided\n",
        "  if text_number == 'no_support_info':\n",
        "    return(None)\n",
        "\n",
        "  match = re.search(r\"[-+]?\\d*\\.\\d+([eE][-+]?\\d+)?\", text_number)\n",
        "\n",
        "  if match:\n",
        "    float_value = float(match.group())\n",
        "    return(float_value)\n",
        "  else:\n",
        "    print(text_number)\n",
        "    return(None)"
      ],
      "metadata": {
        "id": "4wy_yZj116jt"
      },
      "execution_count": null,
      "outputs": []
    },
    {
      "cell_type": "code",
      "source": [
        "for record in normalized_train:\n",
        "  record['qa_ans'] = postprocess_number(record['parsed_string_llm_response_qa'])"
      ],
      "metadata": {
        "colab": {
          "base_uri": "https://localhost:8080/"
        },
        "id": "9-wFWhb_16md",
        "outputId": "ee297d8a-5601-46f1-b46f-12676a090283"
      },
      "execution_count": 123,
      "outputs": [
        {
          "output_type": "stream",
          "name": "stdout",
          "text": [
            "To find the portion of the total shares subject to outstanding awards that is under the 2009 global incentive plan, we need to calculate the ratio of the 2009 plan shares subject to outstanding awards to the total shares subject to outstanding awards from both\n",
            "0\n",
            "To solve the problem, we need to determine the percentage that the 2005 charge for asset impairments represents of the pre-impairment earnings for the optical and specialty materials segment.\n",
            "\n",
            "1. **Determine the pre-impairment earnings for\n",
            "To find the number of common stock shares for which the company paid dividends in 2012, we need to use the information provided about the dividends declared and the dividend per share amounts.\n",
            "\n",
            "1. The total dividends declared during fiscal 2012 amounted to\n",
            "To find the implied composite debt level for 2014, we can use the formula for interest expense:\n",
            "\n",
            "Interest Expense = Debt Level * Interest Rate\n",
            "\n",
            "Given:\n",
            "- Interest Expense for 2014 = 561 million\n",
            "- Interest Rate = 7\n",
            "242518\n",
            "To find out how many shares received dividends during 2014, we can use the information provided:\n",
            "\n",
            "1. Total dividends declared during fiscal 2014: $487 million.\n",
            "2. Total dividends per share during fiscal 2014: $0.\n",
            "To calculate the percent higher yields from the money pool in the years 2016 and 2017 compared to the years 2014 and 2015, we need to follow these steps:\n",
            "\n",
            "1. Calculate the average receivables for the years\n",
            "To find the number of common stock shares for which the company paid dividends in 2012, we need to use the total dividends declared and the dividend per share information provided.\n",
            "\n",
            "1. The total dividends declared during fiscal 2012 amounted to $438\n",
            "To calculate the percentage change in personal injury liability from 2005 to 2006, we need to determine the change in the ending balance from 2005 to 2006 and then express that change as a percentage of the 2005 ending\n",
            "To calculate the percentage of other current liabilities among the total liabilities, we need to follow these steps:\n",
            "\n",
            "1. Identify the values given:\n",
            "   - Other current liabilities: 21604 (in thousands)\n",
            "   - Other liabilities: 82 (in thousands\n",
            "To calculate the yearly amortization expense related to developed product technology (Erbitux), we need to consider the amortization period and the estimated fair value.\n",
            "\n",
            "1. **Determine the amortization period**: \n",
            "   - In the U.S., the\n",
            "To calculate the percent of the anticipated increase in berths capacity to service the European cruise market between 2012 and 2016, we need to follow these steps:\n",
            "\n",
            "1. Identify the initial number of berths at the end of 2011\n",
            "The change in commercial commitments net of participations, assignments, and syndications from 2006 to 2007 can be calculated as follows:\n",
            "\n",
            "1. Calculate the net commercial commitments for each year by subtracting participations, assignments, and syndications\n",
            "To find the tax rate, we need to determine the difference between the increase in pretax income and the increase in after-tax income, and then divide that difference by the increase in pretax income.\n",
            "\n",
            "1. Calculate the tax amount: \n",
            "   Tax\n",
            "To calculate the weighted average total of the aggregate cost of the per share repurchased from 2017 to 2019, we need to follow these steps:\n",
            "\n",
            "1. Calculate the total number of shares repurchased over the three years.\n",
            "2. Calculate\n",
            "To find the percent of the total number of shares purchased that was not part of publicly announced plans or programs, we need to follow these steps:\n",
            "\n",
            "1. Calculate the total number of shares purchased that were not part of publicly announced plans or programs for the\n",
            "To find the approximate increase of berths per ship from 2008 to 2012, we need to calculate the berths per ship for each year and then find the difference.\n",
            "\n",
            "1. Calculate berths per ship in 2008:\n",
            "  \n",
            "1\n",
            "To solve the problem, we need to calculate the ratio of the granted stock units to the sum of the distributed and forfeited or canceled stock units.\n",
            "\n",
            "1. **Granted stock units**: 618679\n",
            "2. **Distributed stock units**:\n",
            "To find the total number of outstanding shares as of December 31, 2005, according to the pro-forma income, we can use the formula for basic and diluted net loss per share:\n",
            "\n",
            "\\[ \\text{Net Loss Per Share} =\n",
            "To calculate the average receivable turnover in 2009, we need to use the formula for receivable turnover, which is:\n",
            "\n",
            "Receivable Turnover = Total Collected / Average Accounts Receivable\n",
            "\n",
            "First, we calculate the average accounts receivable for\n",
            "0\n",
            "To calculate the percent of shares withheld from employees to cover their statutory minimum withholding requirements for personal income taxes to the shares purchased, we need to find the ratio of the total number of shares withheld to the total number of shares purchased and express it as a\n",
            "To calculate the percentage change in the nonvested RSUs from December 31, 2012, to December 31, 2013, we can use the formula for percentage change:\n",
            "\n",
            "\\[\n",
            "\\text{Percentage Change} = \\frac\n",
            "1\n",
            "To calculate the percentage effect of realized and unrealized losses on the assets as of 2008, we need to determine the total losses and compare them to the total assets.\n",
            "\n",
            "1. Total realized and unrealized losses for investments: $409\n",
            "2\n",
            "To calculate the ending unrecognized tax benefits for 2013 without the settlements, we need to adjust the given balance at December 31, 2013, by adding back the decreases related to settlements with taxing authorities.\n",
            "\n",
            "Given:\n",
            "- Balance at December\n",
            "To determine the percentage of the change in net revenue attributed to the change in retail electric price, we need to follow these steps:\n",
            "\n",
            "1. Calculate the change in net revenue from 2010 to 2011:\n",
            "   \\[\n",
            "   \\text{\n",
            "0\n",
            "To calculate the percentage reduction in cash flow from hedges after reclassification, we need to determine the change in cash flow hedges due to reclassification and then express that change as a percentage of the original amount before reclassification.\n",
            "\n",
            "1. The balance\n",
            "0\n",
            "242518\n",
            "To find the number of outstanding shares that received dividends in 2013, we need to use the information provided about the dividends paid and the dividend amounts per share.\n",
            "\n",
            "1. Calculate the total dividend per share for the year:\n",
            "   - Three quarterly dividends\n",
            "To determine the percentage of the change in net revenue attributed to the change in retail electric price, we need to follow these steps:\n",
            "\n",
            "1. Calculate the change in net revenue from 2010 to 2011:\n",
            "   \\[\n",
            "   \\text{\n",
            "To calculate the net profit margin for 2007, we need to adjust the net income by adding back the charge for acquired in-process research and development, as this is a non-recurring expense related to acquisitions. \n",
            "\n",
            "1. Adjusted Net Income\n",
            "To estimate the number of outstanding shares based on the stated EPS (Earnings Per Share), we can use the formula:\n",
            "\n",
            "\\[ \\text{Outstanding Shares} = \\frac{\\text{Net Income}}{\\text{EPS}} \\]\n",
            "\n",
            "Given:\n",
            "-\n",
            "1\n",
            "To calculate the percentage performance difference between Aptiv PLC and the S&P 500 over the five-year period ending December 31, 2018, we need to follow these steps:\n",
            "\n",
            "1. Calculate the percentage change for Aptiv PLC from December \n",
            "The decrease in proved bitumen reserves during 2008 can be calculated by finding the difference between the beginning and end of year reserves.\n",
            "\n",
            "Beginning of year reserves: 421 million barrels  \n",
            "End of year reserves: 388 million barrels  \n",
            "\n",
            "Decrease in reserves\n",
            "1\n",
            "To calculate the quick ratio, we use the formula:\n",
            "\n",
            "Quick Ratio = (Cash and Cash Equivalents + Accounts Receivable) / (Accounts Payable + Accrued Liabilities)\n",
            "\n",
            "Given the context:\n",
            "\n",
            "- Cash and Cash Equivalents =\n",
            "0\n",
            "1\n",
            "0\n",
            "The decrease in proved bitumen reserves during 2008 can be calculated by finding the difference between the beginning and end of year reserves.\n",
            "\n",
            "Beginning of year reserves: 421 million barrels  \n",
            "End of year reserves: 388 million barrels  \n",
            "\n",
            "Decrease in reserves\n",
            "To solve the problem, we need to determine the proportion of tax-related assets in relation to the total current assets and prepaids for the year 2012.\n",
            "\n",
            "1. Identify tax-related assets:\n",
            "   - Value added tax and other consumption tax rece\n",
            "To calculate the expected annual amortization expenses for the acquired customer-related and network location intangibles, we need to consider the total value of these intangibles and their respective amortization periods.\n",
            "\n",
            "1. **Customer-related intangibles:**\n",
            "  \n",
            "To calculate the asset allocation and balanced as a percentage of the total component changes in multi-asset AUM in 2015, we need to determine the total component changes for both asset allocation and balanced, and the total AUM.\n",
            "\n",
            "1. Calculate\n",
            "To determine the portion of the beginning balance of accrual for fraud losses that is regulated through adjustments, we need to calculate the ratio of the adjustments to the beginning balance.\n",
            "\n",
            "1. Identify the beginning balance of accrual for fraud losses: $67,\n",
            "To calculate the percentage of other current liabilities among the total liabilities, we need to follow these steps:\n",
            "\n",
            "1. Identify the values for other current liabilities and other liabilities from the context:\n",
            "   - Other current liabilities: 21604 (in thousands)\n",
            "  \n",
            "To find the number of outstanding shares based on the basic earnings per share (EPS), we use the formula:\n",
            "\n",
            "\\[ \\text{Outstanding Shares} = \\frac{\\text{Net Income}}{\\text{EPS}} \\]\n",
            "\n",
            "Using the reported figures for\n",
            "To solve the problem, we need to determine the proportion of tax-related assets within the total current assets and prepaids for 2011.\n",
            "\n",
            "1. Identify tax-related assets:\n",
            "   - Value added tax and other consumption tax receivables: $\n",
            "To calculate the total amount of principal payment paid from 2008 to 2011, we need to consider the quarterly payments and their respective amounts during the specified periods:\n",
            "\n",
            "1. From August 31, 2008, to August 31,\n",
            "To calculate the ROI (Return on Investment) for O'Reilly Automotive Inc. from 2013 to 2017, we use the formula:\n",
            "\n",
            "\\[ \\text{ROI} = \\frac{\\text{Final Value} - \\text{Initial\n",
            "1. Calculate the five-year return for O'Reilly Automotive Inc. from December 31, 2013, to December 31, 2018:\n",
            "   - Initial value (2013): $100\n",
            "   - Final value (2018\n",
            "To find the difference in percentage change between the Priceline Group Inc. and the S&P 500 Index for the five years ended 2015, we need to calculate the percentage change for each from December 31, 2010, to December \n",
            "The net change in net revenue from 2009 to 2010 is calculated as follows:\n",
            "\n",
            "Net revenue in 2010: $5051 million  \n",
            "Net revenue in 2009: $4694 million  \n",
            "\n",
            "Net change in net revenue = $\n",
            "To calculate the total shares issued from 2014 to 2016, we need to consider the changes in the number of shares issued over this period. \n",
            "\n",
            "1. Start with the balance at December 28, 2014: 377,\n",
            "0\n",
            "1\n",
            "To calculate the percent of shares forfeited as of December 31, 2017, we need to determine the proportion of forfeited shares relative to the total shares available for vesting during the year.\n",
            "\n",
            "1. **Determine the total shares available for\n",
            "0.\n",
            "To determine if the five-year return of the S&P 500 Retail Index outperformed the S&P 500, we need to calculate the return for each index over the specified period and compare them.\n",
            "\n",
            "1. Calculate the five-year return for the S\n",
            "34630\n",
            "To calculate the difference in percentage between Cadence Design Systems, Inc.'s cumulative 5-year total shareholder return on common stock and the S&P 500 for the period ending 12/29/07, we need to follow these steps:\n",
            "\n",
            "1\n",
            "1\n",
            "To calculate the percent change in non-operating income (expense) less net income (loss) attributable to NCI as adjusted from 2009 to 2010, we use the formula for percent change:\n",
            "\n",
            "Percent Change = ((New Value - Old\n",
            "1\n",
            "0\n",
            "To calculate the percentage increase in the statutory capital and surplus due to the discount of certain A&E liabilities from 2008 to 2009, we need to follow these steps:\n",
            "\n",
            "1. Determine the increase in statutory capital and surplus due to the discount\n",
            "To calculate the difference in percentage cumulative 5-year total shareholder return on common stock for Fidelity National Information Services, Inc. compared to the S&P 500 for the period ending 12/12, we need to follow these steps:\n",
            "\n",
            "1. Calculate\n",
            "To find out how much tier 1 capital would have to decline for the tier 1 capital ratio to reach 8%, we can use the formula for the tier 1 capital ratio:\n",
            "\n",
            "\\[ \\text{Tier 1 Capital Ratio} = \\\n",
            "To calculate the percentage cumulative total shareholder return (TSR) for DISCA over the five-year period ending December 31, 2016, we use the formula for TSR:\n",
            "\n",
            "\\[ \\text{TSR} = \\frac{\\text{Ending\n",
            "To calculate the percentual decline of the deductions during 2007 and 2008, we need to find the percentage change between the deductions for these two years.\n",
            "\n",
            "1. Deductions for 2007: -11766\n",
            "2. Dedu\n",
            "0\n",
            "0.\n",
            "Given the context, we need to calculate the ending amount of unrecognized tax benefits for 2015 without considering settlements. \n",
            "\n",
            "Starting with the balance at January 1, 2015: $384 million.\n",
            "\n",
            "Additions for current year tax positions:\n",
            "To calculate the ratio of the company's accrued and recognized net benefit to expenses between 2008 and 2010, we need to consider the net benefit (or expense) amounts for each year and compare them to the total expenses over the same period.\n",
            "\n",
            "\n",
            "0\n",
            "To calculate the percentage of the company's future minimum payments under its sponsorship and other marketing agreements for 2019 to the total, we need to first identify the relevant figures from the context provided.\n",
            "\n",
            "From the context, the total future minimum sponsorship and other marketing\n",
            "To calculate the percentage decline in the allowance for doubtful accounts in 2013, we need to determine the change in the allowance and then express it as a percentage of the beginning balance.\n",
            "\n",
            "1. Calculate the change in the allowance for doubtful accounts:\n",
            "  \n",
            "To find the biggest decline in percentage from 2007 to 2008 among the four groups, we need to calculate the percentage decline for each group and compare them.\n",
            "\n",
            "1. **Valero Common Stock:**\n",
            "   - Initial value (2007\n",
            "To find the tax rate of the adjustment to the amount reclassified to earnings from accumulated other comprehensive income to pension and postretirement expense, we need to calculate the difference between the pre-tax and after-tax amounts and then divide by the pre-tax amount\n",
            "1\n",
            "To calculate the percent of the net gains and losses from CVA and hedges of CVA, we need to determine the proportion of the net gains/losses that are attributable to CVA and hedges of CVA for each year and then\n",
            "1\n",
            "To determine how the cash flow from operations is affected by the increase in inventories at LIFO net in 2016, we need to calculate the change in inventories at LIFO net from January 2, 2016, to December 31,\n",
            "0\n",
            "To calculate the ratio of trucks and equipment to the containers as part of the sales proceeds net, we need to identify the relevant figures from the context provided.\n",
            "\n",
            "From the context:\n",
            "- Containers trucks and equipment: 160\n",
            "- Proceeds from sales of\n",
            "To calculate the percent change in the postretirement benefit plan adjustments from January 1, 2010, to December 31, 2010, we use the formula for percent change:\n",
            "\n",
            "\\[\n",
            "\\text{Percent Change} = \\left\n",
            "To calculate the debt to asset ratio, we need to determine the total debt and total assets from the given context.\n",
            "\n",
            "1. **Total Debt**: \n",
            "   - Long-term debt: $182 million\n",
            "\n",
            "2. **Total Assets**: \n",
            "  \n",
            "The growth in the account balance in 2017 can be calculated by finding the difference between the balance as of December 31, 2017, and the balance as of January 1, 2017.\n",
            "\n",
            "Given:\n",
            "- Balance as of January\n",
            "3995600\n",
            "To calculate the growth rate in the fair value of the total restricted stock units (RSUs) outstanding in 2015, we need to determine the fair value of the RSUs at the beginning and end of the period and then calculate the growth rate\n",
            "To calculate the net change in the balance of unpaid losses during 2008, we need to consider the net unpaid loss and loss expense reserves at the end of 2008 and adjust for the net losses incurred, paid, other adjustments, and acquired\n",
            "To solve the given financial question, we need to determine what percentage of the total proved undeveloped resources as of December 31, 2014, is accounted for by the extensions and discoveries and the proved undeveloped resources as of December 31,\n",
            "To calculate the ending balance of in-process R&D assets in fiscal 2016, we need to follow these steps:\n",
            "\n",
            "1. Start with the beginning balance for fiscal 2016, which is the ending balance from fiscal 2015: $14\n",
            "To determine the portion of the net change in net revenue due to the retail electric price, we need to follow these steps:\n",
            "\n",
            "1. Calculate the net change in net revenue from 2009 to 2010:\n",
            "   \\[\n",
            "   \\text{\n",
            "To determine what percent of the total fair value of net assets acquired is represented by hard assets, we need to identify the hard assets and calculate their proportion of the total fair value of net assets acquired.\n",
            "\n",
            "Hard assets typically include tangible assets such as property and\n",
            "To calculate the total return on Delphi Automotive PLC for the five-year period ending December 31, 2015, we need to consider both the capital gains and the dividends received over the period.\n",
            "\n",
            "1. **Capital Gains**: \n",
            "   - Initial\n",
            "0\n",
            "To calculate the debt to asset ratio, we need to determine the total debt and total assets from the given context.\n",
            "\n",
            "1. **Total Debt**: \n",
            "   - Long-term debt: $182 million\n",
            "\n",
            "2. **Total Assets**: \n",
            "  \n",
            "To calculate the profit per share for 2019 with the same growth rate as 2018, we first need to determine the growth rate of profit per share from 2017 to 2018.\n",
            "\n",
            "1. Profit per share in 2017\n"
          ]
        }
      ]
    },
    {
      "cell_type": "code",
      "source": [
        "# % Nones - just 5% which is okay for a POC\n",
        "\n",
        "len([el['qa_ans'] for el in normalized_train if el['qa_ans'] is None]) / len(normalized_train)"
      ],
      "metadata": {
        "colab": {
          "base_uri": "https://localhost:8080/"
        },
        "id": "zLMA1Pv7zYgv",
        "outputId": "db1fb27f-29d4-4ae5-fe47-30812f250201"
      },
      "execution_count": 125,
      "outputs": [
        {
          "output_type": "execute_result",
          "data": {
            "text/plain": [
              "0.05044136191677175"
            ]
          },
          "metadata": {},
          "execution_count": 125
        }
      ]
    },
    {
      "cell_type": "code",
      "source": [
        "pd.Series([el['qa_ans'] for el in normalized_train]).describe()"
      ],
      "metadata": {
        "colab": {
          "base_uri": "https://localhost:8080/",
          "height": 335
        },
        "id": "54SJkOHluaun",
        "outputId": "ce2ab6c8-d389-47a3-eece-53f13617678e"
      },
      "execution_count": 126,
      "outputs": [
        {
          "output_type": "execute_result",
          "data": {
            "text/plain": [
              "count    3.765000e+03\n",
              "mean     1.391985e+08\n",
              "std      6.137423e+09\n",
              "min     -6.140000e+07\n",
              "25%      5.560000e-02\n",
              "50%      3.660000e-01\n",
              "75%      4.598500e+00\n",
              "max      3.596000e+11\n",
              "dtype: float64"
            ],
            "text/html": [
              "<div>\n",
              "<style scoped>\n",
              "    .dataframe tbody tr th:only-of-type {\n",
              "        vertical-align: middle;\n",
              "    }\n",
              "\n",
              "    .dataframe tbody tr th {\n",
              "        vertical-align: top;\n",
              "    }\n",
              "\n",
              "    .dataframe thead th {\n",
              "        text-align: right;\n",
              "    }\n",
              "</style>\n",
              "<table border=\"1\" class=\"dataframe\">\n",
              "  <thead>\n",
              "    <tr style=\"text-align: right;\">\n",
              "      <th></th>\n",
              "      <th>0</th>\n",
              "    </tr>\n",
              "  </thead>\n",
              "  <tbody>\n",
              "    <tr>\n",
              "      <th>count</th>\n",
              "      <td>3.765000e+03</td>\n",
              "    </tr>\n",
              "    <tr>\n",
              "      <th>mean</th>\n",
              "      <td>1.391985e+08</td>\n",
              "    </tr>\n",
              "    <tr>\n",
              "      <th>std</th>\n",
              "      <td>6.137423e+09</td>\n",
              "    </tr>\n",
              "    <tr>\n",
              "      <th>min</th>\n",
              "      <td>-6.140000e+07</td>\n",
              "    </tr>\n",
              "    <tr>\n",
              "      <th>25%</th>\n",
              "      <td>5.560000e-02</td>\n",
              "    </tr>\n",
              "    <tr>\n",
              "      <th>50%</th>\n",
              "      <td>3.660000e-01</td>\n",
              "    </tr>\n",
              "    <tr>\n",
              "      <th>75%</th>\n",
              "      <td>4.598500e+00</td>\n",
              "    </tr>\n",
              "    <tr>\n",
              "      <th>max</th>\n",
              "      <td>3.596000e+11</td>\n",
              "    </tr>\n",
              "  </tbody>\n",
              "</table>\n",
              "</div><br><label><b>dtype:</b> float64</label>"
            ]
          },
          "metadata": {},
          "execution_count": 126
        }
      ]
    },
    {
      "cell_type": "markdown",
      "source": [
        "# Step 3. Evaluation\n"
      ],
      "metadata": {
        "id": "e8pV7F4-axOM"
      }
    },
    {
      "cell_type": "code",
      "source": [
        "normalized_train[-1]['qa']"
      ],
      "metadata": {
        "colab": {
          "base_uri": "https://localhost:8080/"
        },
        "id": "retvzeJt4DaL",
        "outputId": "fd9bd224-90d1-4e7d-a68e-a1cf6ef68bb0"
      },
      "execution_count": 132,
      "outputs": [
        {
          "output_type": "execute_result",
          "data": {
            "text/plain": [
              "{'question': 'what was the average capital expenditures , in millions , for 2016 and 2015?',\n",
              " 'answer': '77',\n",
              " 'explanation': '',\n",
              " 'ann_table_rows': [],\n",
              " 'ann_text_rows': [21],\n",
              " 'steps': [{'op': 'add2-1', 'arg1': '90', 'arg2': '64', 'res': '154'},\n",
              "  {'op': 'divide2-2', 'arg1': '#0', 'arg2': 'const_2', 'res': '77'}],\n",
              " 'program': 'add(90, 64), divide(#0, const_2)',\n",
              " 'gold_inds': {'text_21': 'additionally , capital expenditures decreased $ 26 million to $ 64 million from $ 90 million for 2016 and 2015 , respectively , primarily due to spending for our new office location in 2015 .'},\n",
              " 'exe_ans': 77.0,\n",
              " 'program_re': 'divide(add(90, 64), const_2)',\n",
              " 'exe_ans_float': 77.0,\n",
              " 'exe_ans_type': 'float'}"
            ]
          },
          "metadata": {},
          "execution_count": 132
        }
      ]
    },
    {
      "cell_type": "code",
      "source": [
        "for record in normalized_train:\n",
        "  # if the record is None, the difference is 100%\n",
        "  if record['qa_ans'] is None:\n",
        "    record['pct_difference_qa_answer'] = 1\n",
        "  else:\n",
        "    if record['qa']['exe_ans_float'] == 0:\n",
        "      if record['qa_ans'] != 0:\n",
        "        record['pct_difference_qa_answer'] = 1\n",
        "      else:\n",
        "        record['pct_difference_qa_answer'] = 0\n",
        "    else:\n",
        "\n",
        "\n",
        "        record['pct_difference_qa_answer'] = abs(record['qa_ans'] - record['qa']['exe_ans_float'])/record['qa']['exe_ans_float']\n",
        "\n",
        "  if record['pct_difference_qa_answer'] > 0.01:\n",
        "    record['bool_success_99'] = False\n",
        "  else:\n",
        "    record['bool_success_99'] = True\n",
        "  if record['pct_difference_qa_answer'] > 0.05:\n",
        "    record['bool_success_95'] = False\n",
        "  else:\n",
        "    record['bool_success_95'] = True\n"
      ],
      "metadata": {
        "id": "uT8CCIr20ggZ"
      },
      "execution_count": 146,
      "outputs": []
    },
    {
      "cell_type": "code",
      "source": [],
      "metadata": {
        "id": "p1AoMG9g60WD"
      },
      "execution_count": null,
      "outputs": []
    },
    {
      "cell_type": "code",
      "source": [
        "# evaluate\n",
        "\n",
        "eval_pct_diff = pd.Series([el['pct_difference_qa_answer'] for el in normalized_train])\n",
        "pct_successful_99 = pd.Series([el['bool_success_99'] for el in normalized_train])\n",
        "pct_successful_95= pd.Series([el['bool_success_95'] for el in normalized_train])"
      ],
      "metadata": {
        "id": "o66K467Ouagg"
      },
      "execution_count": 147,
      "outputs": []
    },
    {
      "cell_type": "code",
      "source": [
        "eval_pct_diff.describe()"
      ],
      "metadata": {
        "colab": {
          "base_uri": "https://localhost:8080/",
          "height": 335
        },
        "id": "fHIrL0GIa9Ud",
        "outputId": "b4f5c122-797f-4537-d4b0-593dfe7348fc"
      },
      "execution_count": 148,
      "outputs": [
        {
          "output_type": "execute_result",
          "data": {
            "text/plain": [
              "count    3.965000e+03\n",
              "mean     2.636257e+06\n",
              "std      7.473134e+07\n",
              "min     -2.158013e+04\n",
              "25%      0.000000e+00\n",
              "50%      2.716653e-04\n",
              "75%      4.477523e-01\n",
              "max      3.500209e+09\n",
              "dtype: float64"
            ],
            "text/html": [
              "<div>\n",
              "<style scoped>\n",
              "    .dataframe tbody tr th:only-of-type {\n",
              "        vertical-align: middle;\n",
              "    }\n",
              "\n",
              "    .dataframe tbody tr th {\n",
              "        vertical-align: top;\n",
              "    }\n",
              "\n",
              "    .dataframe thead th {\n",
              "        text-align: right;\n",
              "    }\n",
              "</style>\n",
              "<table border=\"1\" class=\"dataframe\">\n",
              "  <thead>\n",
              "    <tr style=\"text-align: right;\">\n",
              "      <th></th>\n",
              "      <th>0</th>\n",
              "    </tr>\n",
              "  </thead>\n",
              "  <tbody>\n",
              "    <tr>\n",
              "      <th>count</th>\n",
              "      <td>3.965000e+03</td>\n",
              "    </tr>\n",
              "    <tr>\n",
              "      <th>mean</th>\n",
              "      <td>2.636257e+06</td>\n",
              "    </tr>\n",
              "    <tr>\n",
              "      <th>std</th>\n",
              "      <td>7.473134e+07</td>\n",
              "    </tr>\n",
              "    <tr>\n",
              "      <th>min</th>\n",
              "      <td>-2.158013e+04</td>\n",
              "    </tr>\n",
              "    <tr>\n",
              "      <th>25%</th>\n",
              "      <td>0.000000e+00</td>\n",
              "    </tr>\n",
              "    <tr>\n",
              "      <th>50%</th>\n",
              "      <td>2.716653e-04</td>\n",
              "    </tr>\n",
              "    <tr>\n",
              "      <th>75%</th>\n",
              "      <td>4.477523e-01</td>\n",
              "    </tr>\n",
              "    <tr>\n",
              "      <th>max</th>\n",
              "      <td>3.500209e+09</td>\n",
              "    </tr>\n",
              "  </tbody>\n",
              "</table>\n",
              "</div><br><label><b>dtype:</b> float64</label>"
            ]
          },
          "metadata": {},
          "execution_count": 148
        }
      ]
    },
    {
      "cell_type": "code",
      "source": [
        "pct_successful_99.value_counts()"
      ],
      "metadata": {
        "colab": {
          "base_uri": "https://localhost:8080/",
          "height": 147
        },
        "id": "eYjpClcI6mlf",
        "outputId": "a85fa727-07df-494b-f026-8a33cafd0e27"
      },
      "execution_count": 150,
      "outputs": [
        {
          "output_type": "execute_result",
          "data": {
            "text/plain": [
              "True     2739\n",
              "False    1226\n",
              "Name: count, dtype: int64"
            ],
            "text/html": [
              "<div>\n",
              "<style scoped>\n",
              "    .dataframe tbody tr th:only-of-type {\n",
              "        vertical-align: middle;\n",
              "    }\n",
              "\n",
              "    .dataframe tbody tr th {\n",
              "        vertical-align: top;\n",
              "    }\n",
              "\n",
              "    .dataframe thead th {\n",
              "        text-align: right;\n",
              "    }\n",
              "</style>\n",
              "<table border=\"1\" class=\"dataframe\">\n",
              "  <thead>\n",
              "    <tr style=\"text-align: right;\">\n",
              "      <th></th>\n",
              "      <th>count</th>\n",
              "    </tr>\n",
              "  </thead>\n",
              "  <tbody>\n",
              "    <tr>\n",
              "      <th>True</th>\n",
              "      <td>2739</td>\n",
              "    </tr>\n",
              "    <tr>\n",
              "      <th>False</th>\n",
              "      <td>1226</td>\n",
              "    </tr>\n",
              "  </tbody>\n",
              "</table>\n",
              "</div><br><label><b>dtype:</b> int64</label>"
            ]
          },
          "metadata": {},
          "execution_count": 150
        }
      ]
    },
    {
      "cell_type": "code",
      "source": [
        "# success rate out of total at 99%\n",
        "\n",
        "2739/(2739 + 1226)"
      ],
      "metadata": {
        "colab": {
          "base_uri": "https://localhost:8080/"
        },
        "id": "tUSg5IZs69HQ",
        "outputId": "b84cfcb7-8333-4f8c-ffc6-b4f00fd9e31b"
      },
      "execution_count": 151,
      "outputs": [
        {
          "output_type": "execute_result",
          "data": {
            "text/plain": [
              "0.6907944514501891"
            ]
          },
          "metadata": {},
          "execution_count": 151
        }
      ]
    },
    {
      "cell_type": "code",
      "source": [
        "\n",
        "pct_successful_95.value_counts()\n"
      ],
      "metadata": {
        "colab": {
          "base_uri": "https://localhost:8080/",
          "height": 147
        },
        "id": "x5UWgrwFa5CU",
        "outputId": "ca0e952f-c6cd-4bb1-a390-a9d7edb56b73"
      },
      "execution_count": 152,
      "outputs": [
        {
          "output_type": "execute_result",
          "data": {
            "text/plain": [
              "True     2806\n",
              "False    1159\n",
              "Name: count, dtype: int64"
            ],
            "text/html": [
              "<div>\n",
              "<style scoped>\n",
              "    .dataframe tbody tr th:only-of-type {\n",
              "        vertical-align: middle;\n",
              "    }\n",
              "\n",
              "    .dataframe tbody tr th {\n",
              "        vertical-align: top;\n",
              "    }\n",
              "\n",
              "    .dataframe thead th {\n",
              "        text-align: right;\n",
              "    }\n",
              "</style>\n",
              "<table border=\"1\" class=\"dataframe\">\n",
              "  <thead>\n",
              "    <tr style=\"text-align: right;\">\n",
              "      <th></th>\n",
              "      <th>count</th>\n",
              "    </tr>\n",
              "  </thead>\n",
              "  <tbody>\n",
              "    <tr>\n",
              "      <th>True</th>\n",
              "      <td>2806</td>\n",
              "    </tr>\n",
              "    <tr>\n",
              "      <th>False</th>\n",
              "      <td>1159</td>\n",
              "    </tr>\n",
              "  </tbody>\n",
              "</table>\n",
              "</div><br><label><b>dtype:</b> int64</label>"
            ]
          },
          "metadata": {},
          "execution_count": 152
        }
      ]
    },
    {
      "cell_type": "code",
      "source": [
        "2806/(2806 + 1159)"
      ],
      "metadata": {
        "colab": {
          "base_uri": "https://localhost:8080/"
        },
        "id": "dPS50U1P8nrx",
        "outputId": "375e7991-46df-4971-fc1c-b5f93a4aeae5"
      },
      "execution_count": 153,
      "outputs": [
        {
          "output_type": "execute_result",
          "data": {
            "text/plain": [
              "0.7076923076923077"
            ]
          },
          "metadata": {},
          "execution_count": 153
        }
      ]
    },
    {
      "cell_type": "code",
      "source": [],
      "metadata": {
        "id": "nBOamRIe8qua"
      },
      "execution_count": null,
      "outputs": []
    }
  ]
}